{
 "cells": [
  {
   "cell_type": "markdown",
   "metadata": {},
   "source": [
    "## Load in the geneset files\n",
    "updated version of Geneset files can be downloade from [here](http://download.baderlab.org/EM_Genesets/current_release/) \n",
    "\n",
    "Ideally we would be able to select the species and identifier type.  Once the user selects these then the list of currently available files could come up in a drop down or something similar."
   ]
  },
  {
   "cell_type": "code",
   "execution_count": 1,
   "metadata": {
    "collapsed": false
   },
   "outputs": [],
   "source": [
    "download.file(\n",
    "    \"http://download.baderlab.org/EM_Genesets/current_release/Human/symbol/Human_GOBP_AllPathways_no_GO_iea_October_01_2016_symbol.gmt\",\n",
    "    destfile=\"./Human_GOBP_AllPathways_no_GO_iea_October_01_2016_symbol.gmt\"\n",
    ")"
   ]
  },
  {
   "cell_type": "code",
   "execution_count": 2,
   "metadata": {
    "collapsed": false
   },
   "outputs": [],
   "source": [
    "library(GSA)\n",
    "capture.output(\n",
    "    genesets <- GSA.read.gmt(\"Human_GOBP_AllPathways_no_GO_iea_October_01_2016_symbol.gmt\"),\n",
    "    file=\"./gsea_load_output.txt\"\n",
    "   ) "
   ]
  },
  {
   "cell_type": "markdown",
   "metadata": {},
   "source": [
    "## Define the list of genes you are interested in seeing enrichments for\n",
    "\n",
    "Ideally I would like it as a text box where the user just enters their genes of interest"
   ]
  },
  {
   "cell_type": "code",
   "execution_count": 3,
   "metadata": {
    "collapsed": false
   },
   "outputs": [],
   "source": [
    "mesenchymal_genes <- read.table( \"./data/mesenvsimmuno_mesenonly_RNAseq_gprofiler.txt\", header = FALSE, \n",
    "                                sep = \"\\t\", quote=\"\\\"\",  stringsAsFactors = FALSE)\n",
    "mesenchymal_genes <- as.vector(t(mesenchymal_genes))"
   ]
  },
  {
   "cell_type": "code",
   "execution_count": 4,
   "metadata": {
    "collapsed": false
   },
   "outputs": [
    {
     "data": {
      "text/html": [
       "<ol class=list-inline>\n",
       "\t<li>'BGN'</li>\n",
       "\t<li>'ANTXR1'</li>\n",
       "\t<li>'FZD1'</li>\n",
       "\t<li>'COL16A1'</li>\n",
       "\t<li>'GPC6'</li>\n",
       "\t<li>'TSPAN11'</li>\n",
       "</ol>\n"
      ],
      "text/latex": [
       "\\begin{enumerate*}\n",
       "\\item 'BGN'\n",
       "\\item 'ANTXR1'\n",
       "\\item 'FZD1'\n",
       "\\item 'COL16A1'\n",
       "\\item 'GPC6'\n",
       "\\item 'TSPAN11'\n",
       "\\end{enumerate*}\n"
      ],
      "text/markdown": [
       "1. 'BGN'\n",
       "2. 'ANTXR1'\n",
       "3. 'FZD1'\n",
       "4. 'COL16A1'\n",
       "5. 'GPC6'\n",
       "6. 'TSPAN11'\n",
       "\n",
       "\n"
      ],
      "text/plain": [
       "[1] \"BGN\"     \"ANTXR1\"  \"FZD1\"    \"COL16A1\" \"GPC6\"    \"TSPAN11\""
      ]
     },
     "metadata": {},
     "output_type": "display_data"
    }
   ],
   "source": [
    "head(mesenchymal_genes)"
   ]
  },
  {
   "cell_type": "markdown",
   "metadata": {},
   "source": [
    "## Calculate the universe\n",
    "Either:\n",
    "* the universe can be supplied by the user (for example the complete set of genes/proteins identified in the experiment regardless of whether it was significant or not) or \n",
    "* we can calculate the universe from the gmt file (universe = any gene with an annotation) "
   ]
  },
  {
   "cell_type": "code",
   "execution_count": 5,
   "metadata": {
    "collapsed": true
   },
   "outputs": [],
   "source": [
    "unique_genesets <- genesets$geneset.names\n",
    "universe_genes <- c()\n",
    "for(i in 2:length(unique_genesets)){\n",
    "  #get the current geneset\n",
    "  current_geneset <- unlist(genesets$genesets[i])\n",
    "  current_geneset <- current_geneset[which(current_geneset != \"\")]\n",
    "    universe_genes <- union(universe_genes, current_geneset)\n",
    "    }"
   ]
  },
  {
   "cell_type": "code",
   "execution_count": 6,
   "metadata": {
    "collapsed": false
   },
   "outputs": [
    {
     "data": {
      "text/html": [
       "14810"
      ],
      "text/latex": [
       "14810"
      ],
      "text/markdown": [
       "14810"
      ],
      "text/plain": [
       "[1] 14810"
      ]
     },
     "metadata": {},
     "output_type": "display_data"
    }
   ],
   "source": [
    "length(universe_genes)"
   ]
  },
  {
   "cell_type": "markdown",
   "metadata": {
    "collapsed": true
   },
   "source": [
    "## Calculate enrichments for set of genes\n",
    "Go through each geneset in the geneset file and test the group of genes for enrichment in that geneset using fisher exact test.  "
   ]
  },
  {
   "cell_type": "code",
   "execution_count": 101,
   "metadata": {
    "collapsed": false
   },
   "outputs": [],
   "source": [
    "#go through all the genesets\n",
    "#skip the first line as it is just the header\n",
    "unique_genesets <- genesets$geneset.names\n",
    "inlist <- length(mesenchymal_genes)\n",
    "enrichments_raw <- c()\n",
    "for(i in 2:length(unique_genesets)){\n",
    "  #get the current geneset\n",
    "  current_geneset <- unlist(genesets$genesets[i])\n",
    "  current_geneset <- current_geneset[which(current_geneset != \"\")]\n",
    "  \n",
    "    #number of genes from set that overlap current geneset\n",
    "    ings_inlist <- length(intersect(current_geneset, mesenchymal_genes))\n",
    "    \n",
    "    #number of genes in geneset\n",
    "    ings <- length(current_geneset)\n",
    "    \n",
    "    #number of genes in geneset and in universe\n",
    "    ings_inuniverse <- length(intersect(current_geneset,universe_genes))\n",
    "    \n",
    "    notings <- inlist - length(ings_inlist)\n",
    "    notinuniverse <- length(universe_genes) - ings_inuniverse\n",
    "    \n",
    "    #calculate fisher exact statistic\n",
    "    current_pvalue <- fisher.test(matrix(c(ings_inlist, ings_inuniverse, notings, notinuniverse), 2, 2), \n",
    "                       alternative=\"greater\")$p.value\n",
    "    \n",
    "  enrichments_raw <- rbind(enrichments_raw,c(ings_inlist, ings_inuniverse, notings, notinuniverse, current_pvalue,\n",
    "                                             paste0(intersect(current_geneset, mesenchymal_genes),collapse=\",\")))\n",
    "\n",
    "}\n",
    "\n",
    "row.names(enrichments_raw) <- unique_genesets[2:length(unique_genesets)]\n"
   ]
  },
  {
   "cell_type": "markdown",
   "metadata": {},
   "source": [
    "## Correct for multiple hypothesis testing"
   ]
  },
  {
   "cell_type": "code",
   "execution_count": 102,
   "metadata": {
    "collapsed": true
   },
   "outputs": [],
   "source": [
    "#correct the p-values\n",
    "enriched_pvalue_adjusted <- p.adjust(enrichments_raw[,5], \"BH\")\n",
    "enrichments_raw <- cbind(enrichments_raw,enriched_pvalue_adjusted)"
   ]
  },
  {
   "cell_type": "markdown",
   "metadata": {},
   "source": [
    "## Create output file"
   ]
  },
  {
   "cell_type": "code",
   "execution_count": 118,
   "metadata": {
    "collapsed": false
   },
   "outputs": [],
   "source": [
    "# gProfileR returns corrected p-values only.  Set p-value to corrected p-value\n",
    "mesenchymal_em_results <- data.frame(name=row.names(enrichments_raw),\n",
    "                                     description=row.names(enrichments_raw),\n",
    "                                pvalue=as.numeric(enrichments_raw[,5]),\n",
    "                                    qvalue= as.numeric(enrichments_raw[,7]),\n",
    "                                     phenotype=1,genes=enrichments_raw[,6],stringsAsFactors = FALSE)\n",
    "\n",
    "#colnames(mesenchymal_em_results) <- c(\"Name\",\"Description\", \"pvalue\",\"qvalue\",\"phenotype\",\"genes\")\n",
    "\n",
    "write.table(mesenchymal_em_results,\"fisherexcat_results_mesenonly_.txt\",col.name=TRUE,sep=\"\\t\",row.names=FALSE,quote=FALSE)\n"
   ]
  },
  {
   "cell_type": "markdown",
   "metadata": {},
   "source": [
    "## Build an enrichment Map"
   ]
  },
  {
   "cell_type": "code",
   "execution_count": 9,
   "metadata": {
    "collapsed": false
   },
   "outputs": [
    {
     "name": "stdout",
     "output_type": "stream",
     "text": [
      "[1] \"http://localhost:1234/v1\"\n",
      "      apiVersion cytoscapeVersion \n",
      "            \"v1\"          \"3.4.0\" \n"
     ]
    }
   ],
   "source": [
    "library(RJSONIO)\n",
    "\n",
    "library(httr)\n",
    "# Basic settings\n",
    "port.number = 1234\n",
    "base.url = paste(\"http://localhost:\", toString(port.number), \"/v1\", sep=\"\")\n",
    "\n",
    "print(base.url)\n",
    "\n",
    "version.url = paste(base.url, \"version\", sep=\"/\")\n",
    "cytoscape.version = GET(version.url)\n",
    "cy.version = fromJSON(rawToChar(cytoscape.version$content))\n",
    "print(cy.version)\n"
   ]
  },
  {
   "cell_type": "markdown",
   "metadata": {},
   "source": [
    "## Define Thresholds\n",
    "\n",
    "Ideally the user will be able to change the below thresholds and variables"
   ]
  },
  {
   "cell_type": "code",
   "execution_count": 10,
   "metadata": {
    "collapsed": true
   },
   "outputs": [],
   "source": [
    "pvalue_thresh <- 0.01\n",
    "qvalue_thresh <- 0.05\n",
    "similarity_thresh <- 0.25\n",
    "similiarity <- \"JACCARD\""
   ]
  },
  {
   "cell_type": "code",
   "execution_count": 11,
   "metadata": {
    "collapsed": false
   },
   "outputs": [],
   "source": [
    "# to create an Enrichment map we need to specify\n",
    "# analysisType = generic\n",
    "# \n",
    "enrichmentmap.url <- paste(base.url, \"commands\",\"enrichmentmap\",\"build\", sep=\"/\") \n",
    "\n",
    "path_to_file=\"/Users/risserlin/Dropbox (Bader Lab)/Ruth Isserlin's files/Enrichment_Analyses/EM-tutorials-docker/notebooks/\"\n",
    "#on windows change the \\ to / in order for the pathname to be interpretted correctly.\n",
    "#path_to_file=\"C:/Users/zaphod/Ruth_dropbox/Dropbox (Bader Lab)/Ruth Isserlin's files/Enrichment_Analyses/Jupyter_Notebooks/notebooks/data/\"\n",
    "\n",
    "enr_file = paste(path_to_file,\"fisherexcat_results_mesenonly_.txt\",sep=\"\")\n",
    "\n",
    "em_params <- list(analysisType = \"generic\",enrichmentsDataset1 = enr_file,\n",
    "                  pvalue=pvalue_thresh,qvalue=qvalue_thresh,\n",
    "                  #expressionDataset1 = exp_file, \n",
    "                  similaritycutoff=similarity_thresh,coeffecients=similiarity)\n",
    "\n",
    "response <- GET(url=enrichmentmap.url, query=em_params)"
   ]
  },
  {
   "cell_type": "code",
   "execution_count": 12,
   "metadata": {
    "collapsed": false
   },
   "outputs": [
    {
     "data": {
      "text/html": [
       "'&lt;p style=\"color:black;margin-left:10px;margin-top:0px;margin-bottom:5px;\"&gt;Finished&lt;/p&gt;\n",
       "'"
      ],
      "text/latex": [
       "'<p style=\"color:black;margin-left:10px;margin-top:0px;margin-bottom:5px;\">Finished</p>\n",
       "'"
      ],
      "text/markdown": [
       "'&lt;p style=\"color:black;margin-left:10px;margin-top:0px;margin-bottom:5px;\"&gt;Finished&lt;/p&gt;\n",
       "'"
      ],
      "text/plain": [
       "[1] \"<p style=\\\"color:black;margin-left:10px;margin-top:0px;margin-bottom:5px;\\\">Finished</p>\\n\""
      ]
     },
     "metadata": {},
     "output_type": "display_data"
    }
   ],
   "source": [
    " content(response, \"text\", encoding = \"ISO-8859-1\")"
   ]
  },
  {
   "cell_type": "markdown",
   "metadata": {},
   "source": [
    "## Get the image of the created network so you can see the results\n",
    "\n",
    "Using cyrest I am able to get a png of the network but the network ID is hardcoded.  Need a way to get the network id of the last created network."
   ]
  },
  {
   "cell_type": "code",
   "execution_count": 20,
   "metadata": {
    "collapsed": false
   },
   "outputs": [],
   "source": [
    "url_png <- \"http://localhost:1234/v1/networks/1872/views/first.png/\"\n",
    "response <- GET(url=url_png)\n",
    "bin <-  content(response, \"raw\")\n",
    "writeBin(bin, \"output.png\")"
   ]
  },
  {
   "cell_type": "markdown",
   "metadata": {},
   "source": [
    "<img src=\"output.png\">"
   ]
  },
  {
   "cell_type": "code",
   "execution_count": null,
   "metadata": {
    "collapsed": true
   },
   "outputs": [],
   "source": []
  }
 ],
 "metadata": {
  "kernelspec": {
   "display_name": "R",
   "language": "R",
   "name": "ir"
  },
  "language_info": {
   "codemirror_mode": "r",
   "file_extension": ".r",
   "mimetype": "text/x-r-source",
   "name": "R",
   "pygments_lexer": "r",
   "version": "3.3.1"
  }
 },
 "nbformat": 4,
 "nbformat_minor": 0
}
