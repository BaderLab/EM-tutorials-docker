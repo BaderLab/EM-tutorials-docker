{
 "cells": [
  {
   "cell_type": "markdown",
   "metadata": {},
   "source": [
    "# Protocol 5 - Navigating the Enrichment Map and creating publication ready figures"
   ]
  },
  {
   "cell_type": "markdown",
   "metadata": {},
   "source": [
    "-------------------"
   ]
  },
  {
   "cell_type": "markdown",
   "metadata": {},
   "source": [
    "**Table of Contents:**\n",
    "  1. <a href=#navigate>Navigate network</a>\n",
    "  1. <a href=#individual>Investigating and viewing results for individual sets</a>\n",
    "  1. <a href=#figure>Create publication ready figure/a>\n",
    "  1. <a href=#annotate>Annotate network</a>"
   ]
  },
  {
   "cell_type": "markdown",
   "metadata": {},
   "source": [
    "-------------------"
   ]
  },
  {
   "cell_type": "markdown",
   "metadata": {},
   "source": [
    "Once the Enrichment Map is created the next step involves interpreting and refining it to ultimately create a figure that can be used to explain the question of interest or uncover new avenues of research.  There are many Cytoscape features and third –party Apps that can help analyze and refine an Enrichment Map.   A few of these are explored in this protocol but only brush the surface of what can be done within Cytoscape. "
   ]
  },
  {
   "cell_type": "markdown",
   "metadata": {},
   "source": [
    "<a id='navigate'></a>"
   ]
  },
  {
   "cell_type": "markdown",
   "metadata": {},
   "source": [
    "## 1. Navigating and exploring the map "
   ]
  },
  {
   "cell_type": "markdown",
   "metadata": {},
   "source": [
    "### In control panel located at the left side of the Cytoscape window, select the network of interest. A bird’s eye view of the network is located at the bottom of the panel (figure A). Note that pathways that share a lot of genes in common will be grouped as a module or cluster and often represent a similar biological process. \n",
    "<img  src=\"figures/Cytoscape_Main_panels.png\">"
   ]
  },
  {
   "cell_type": "markdown",
   "metadata": {},
   "source": [
    "### In the menu bar, select  View  Show Graphic details . \n",
    "<img  src=\"figures/show_graphic_details.png\">"
   ]
  },
  {
   "cell_type": "markdown",
   "metadata": {},
   "source": [
    "### It will turn the squared nodes into circles and the gene-set labels will be visible.\n",
    "<img  src=\"figures/show_graphic_details_result.png\">"
   ]
  },
  {
   "cell_type": "markdown",
   "metadata": {},
   "source": [
    "### Zoom in or out using + or - in toolbar or scroll button on mouse until you are able to read the labels comfortably.\n",
    "<img  src=\"figures/tool_bar.png\">"
   ]
  },
  {
   "cell_type": "markdown",
   "metadata": {},
   "source": [
    "### Use the bird’s eye view (located at the bottom of the control panel) to navigate around the network by moving the  blue rectangle using the mouse or trackpad.\n",
    "<img  src=\"figures/birds_eye.png\">"
   ]
  },
  {
   "cell_type": "markdown",
   "metadata": {},
   "source": [
    "<a id='individual'></a>"
   ]
  },
  {
   "cell_type": "markdown",
   "metadata": {},
   "source": [
    "## 2. Investigating and viewing results for individual sets"
   ]
  },
  {
   "cell_type": "markdown",
   "metadata": {},
   "source": [
    "* Click on an individual node of interst.  For this example selected \"Integrin signalling pathway\"\n",
    "* In the Table Panel in the \"Heat map (nodes)\" tab change:\n",
    "  * Normalizaion from \"Data as is\" to \"Row Normalize Data\"\n",
    "  * Sorting from \"Hierarchical clustering\" to \"GSEARanking-Dataset 1\"\n",
    "  <img  src=\"figures/individual.png\">\n",
    "  \n",
    "      ><span style=\"color:purple\">** Tip: Genes in the heatmap that are highlighted yellow represent genes part of the leading edge for this gene set, i.e. contributed the most to the enriched phenotype.  Leading edge genes will only be highlighted if an individual node has been selected and the Enrichment Map was created from GSEA results. ** </span>"
   ]
  },
  {
   "cell_type": "code",
   "execution_count": null,
   "metadata": {
    "collapsed": true
   },
   "outputs": [],
   "source": []
  }
 ],
 "metadata": {
  "kernelspec": {
   "display_name": "R",
   "language": "R",
   "name": "ir"
  },
  "language_info": {
   "codemirror_mode": "r",
   "file_extension": ".r",
   "mimetype": "text/x-r-source",
   "name": "R",
   "pygments_lexer": "r",
   "version": "3.2.2"
  }
 },
 "nbformat": 4,
 "nbformat_minor": 0
}
