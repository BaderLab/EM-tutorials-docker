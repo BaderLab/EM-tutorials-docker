{
 "cells": [
  {
   "cell_type": "markdown",
   "metadata": {},
   "source": [
    "# Protocol 5 - Navigating the Enrichment Map and creating publication ready figures"
   ]
  },
  {
   "cell_type": "markdown",
   "metadata": {},
   "source": [
    "-------------------"
   ]
  },
  {
   "cell_type": "markdown",
   "metadata": {},
   "source": [
    "**Table of Contents:**\n",
    "  1. <a href=#navigate>Navigate network</a>\n",
    "    1. <a href=#panellayout>General Layout</a>\n",
    "    1. <a href=#detailed>Enabling Detailed view</a>\n",
    "    1. <a href=#zoom>Zooming</a>\n",
    "    1. <a href=#navigate2>Navigating within a network</a>\n",
    "  1. <a href=#individual>Investigating and viewing results for individual sets</a>\n",
    "  1. <a href=#saveexp>Saving expression set for a group or individual sets</a>\n",
    "  1. <a href=#filter>Filter results based on p-value, q-value or similarity coeffecient</a>\n",
    "  1. <a href=#figure>Create publication ready figure</a>\n",
    "    1. <a href=#group>Group similiar classes together</a>\n",
    "    1. <a href=#annotate>Annotate network</a>\n",
    "    1. <a href=#modify>Modify visual properties for optimal figure (Tips and Tricks)</a>\n",
    "    1. <a href=#export>Export network image</a>\n",
    "    1. <a href=#result>Publication ready figure</a>\n",
    "  1. <a href=#summarize>Summarize the network</a>"
   ]
  },
  {
   "cell_type": "markdown",
   "metadata": {},
   "source": [
    "-------------------"
   ]
  },
  {
   "cell_type": "markdown",
   "metadata": {},
   "source": [
    "Once the Enrichment Map is created the next step involves interpreting and refining it to ultimately create a figure that can be used to explain the question of interest or uncover new avenues of research.  There are many Cytoscape features and third –party Apps that can help analyze and refine an Enrichment Map.   A few of these are explored in this protocol but only brush the surface of what can be done within Cytoscape. "
   ]
  },
  {
   "cell_type": "markdown",
   "metadata": {},
   "source": [
    "<a id='navigate'></a>"
   ]
  },
  {
   "cell_type": "markdown",
   "metadata": {},
   "source": [
    "## 1. Navigating and exploring the map "
   ]
  },
  {
   "cell_type": "markdown",
   "metadata": {},
   "source": [
    "<a id='panellayout'></a>"
   ]
  },
  {
   "cell_type": "markdown",
   "metadata": {},
   "source": [
    "### General layout of Cytoscape panel\n",
    "In control panel located at the left side of the Cytoscape window, select the network of interest. A bird’s eye view of the network is located at the bottom of the panel (figure A). Note that pathways that share a lot of genes in common will be grouped as a module or cluster and often represent a similar biological process. \n",
    "<img  src=\"figures/Cytoscape_Main_panels.png\">\n",
    "<div class=figlegend> **Figure 1: Cytoscape Main panels (Cytoscape 3.3)**</div>\n",
    "In the latest version of Cytoscape (3.4.0) the main window is slightly different\n",
    "<img  src=\"figures/Figure_cytoscape_main_panel_34.png\">\n",
    "<div class=figlegend> **Figure 2: Overview of Cytoscape 3.4 panel (Cytoscape 3.4)**<BR>\n",
    "**A.** Control panel containing by default the network, styles and select panels.  The network panel list all available networks, style panel allows for fine tuning of the visual properties of the network, and select panel enables complex selection of nodes and edges by user defined filters using available attributes.  Input panels for cytoscape apps are often added to the control panel (including Enrichment Map, Autoannotate and WordCloud) **B.** Table Panel containing tables with node, edge and network attributes.  Enrichment Map places two heatmaps of the genes associated with selected nodes or edges in this panel. **C.** Results Panel contains Enrichment map legend, parameter fine tuning and advanced preferences.  **D.** Tool Bar contains useful shortcut for commonly used functions.  Mouse over icon to get a description.  </div>\n",
    "\n"
   ]
  },
  {
   "cell_type": "markdown",
   "metadata": {},
   "source": [
    "<a id='detailed'></a>"
   ]
  },
  {
   "cell_type": "markdown",
   "metadata": {},
   "source": [
    "### Enabling detailed network view\n",
    "In the menu bar, select  View  Show Graphic details . \n",
    "<div>\n",
    "<img  style=\"horizontal-align:middle\" src=\"figures/show_graphic_details.png\">\n",
    "<div class=figlegend>  **Figure 3: Menu option to \"Show Graphic Details\"**</div>\n",
    "</div>\n"
   ]
  },
  {
   "cell_type": "markdown",
   "metadata": {},
   "source": [
    "\n",
    "It will turn the squared nodes into circles and the gene-set labels will be visible.\n",
    "<img  src=\"figures/show_graphic_details_result.png\">\n",
    "<div class=figlegend>  **Figure 4: Resulting network after \"Show graphic details\" has been clicked**</div>"
   ]
  },
  {
   "cell_type": "markdown",
   "metadata": {},
   "source": [
    "<a id='zoom'></a>"
   ]
  },
  {
   "cell_type": "markdown",
   "metadata": {},
   "source": [
    "### Zooming\n",
    "Zoom in or out using + or - in toolbar or scroll button on mouse until you are able to read the labels comfortably.\n",
    "<img  src=\"figures/tool_bar.png\">\n",
    "<div class=figlegend>  **Figure 5: Shortcut buttons for zooming in and out in the network**</div>"
   ]
  },
  {
   "cell_type": "markdown",
   "metadata": {
    "collapsed": true
   },
   "source": [
    "<a id='navigate2'></a>"
   ]
  },
  {
   "cell_type": "markdown",
   "metadata": {},
   "source": [
    "### Navigating within the network\n",
    "Use the bird’s eye view (located at the bottom of the control panel) to navigate around the network by moving the  blue rectangle using the mouse or trackpad.\n",
    "<img  src=\"figures/birds_eye.png\">\n",
    "\n",
    "<div class=figlegend>  **Figure 6:Bird's eye view in Cytoscape 3.3**</div> <BR><BR>\n",
    "<img  src=\"figures/birds_eye_3_4.png\">\n",
    "\n",
    "<div class=figlegend>  **Figure 7:Bird's eye view in Cytoscape 3.4** In cytoscape 3.4 the Bird's eye view has been relocated to the main netowrk panel. To navigate around the network move the blue box.<BR> If you would like to hide it simply click on <img  src=\"figures/hide_birdseye.png\"></div>"
   ]
  },
  {
   "cell_type": "markdown",
   "metadata": {},
   "source": [
    "<a id='individual'></a>"
   ]
  },
  {
   "cell_type": "markdown",
   "metadata": {},
   "source": [
    "## 2. Investigating and viewing results for individual sets"
   ]
  },
  {
   "cell_type": "markdown",
   "metadata": {},
   "source": [
    "Each geneset consists of a group of genes.  The Enrichment Map translates the list of enriched genesets by computing the gene overlaps between different sets and creates nodes and edges representing the relationship between the different sets.  At its root though we are interested in the specific genes that are part of each geneset and how they are differentially expressed across the conditions we are analyzing.  To investigate the expression of the underlying genes we can click on an individual node, an individual edges or a cluster of either.  Selecting any of these will populate the table panel with the expression set of genes belonging to the node(s) or edge(s).  There are two different expression viewers available in the table panel, Heat Map (nodes) and Heat map (edges).  The Heat Map (nodes) contains the union of genes that are associated width all selected nodes.  If an individual node is selected only the genes part of that geneset are shown (if the analysis is GSEA and a rank file has been supplied the top genes, or also referred to as the leading edge genes, are highlighted in yellow).  The Heat map (edges) contains the intersection of the genes that are associated with all the selected edges, i.e. the set of genes that all selected edges have in common.\n",
    "* Click on an individual node or nodes of interst.  \n",
    "<div class=note> **\"Of Interest\"** - figuring out where to start is dependent on the research question but common first steps include:\n",
    "  1. **Where is my gene (or set of them) of interest located in the enrichment map?**\n",
    "      To find an individual gene in the network simply type the gene name in the search bar located in the upper right hand corner. (for example: ‘BGN’ or ‘PSMB9’, the top differentially expressed gene in mesenchymal and immunoreactive samples, respectively).  This will highlight all genesets that contain the gene in question.  \n",
    "<div class=tip>** TIP:** multiple genes can be searched by entering a list of genes separated by spaces.  Replacing the spaces with “AND” will show only genesets that contain the entire set where as the former will show all genesets that have at least one gene in the list provided. </div><BR>\n",
    "  1. **What is the most significant up or down – regulated geneset?**\n",
    "      * In the table panel, click on the Node Table tab. \n",
    "      * Find the column named “ EM1_NES_dataset1” (for GSEA analyses) or “EM1_fdr_qvalue” (for other analyses).  \n",
    "      * Click on the column name to sort the table according to that attribute.  For EM1_NES_dataset1 click the greatest value to show the geneset most significant in the Mesenchymal phenotype and the lowest value to show the geneset most significant in the Immunoreactive phenotype. \n",
    "      * Select the geneset of interest from the table and right click to see the context menu.  To highlight those genesets in the network Select “Select nodes from selected rows”\n",
    "<div class=tip>** TIP:** if there are very few records in the node table make sure that there are no nodes selected in the network or click on the gear and change the setting from “Auto” to “Show all”. </div><BR>\n",
    "  1. **What are the general themes present in the analysis?**\n",
    "      The best way to summarize a large enrichment map  is to collapse cluster (for step to do this refer to step 52).\n",
    "</div><BR>\n",
    "* For this example selected \"INTERFERON ALPHA BETA SIGNALING%REACTOME%R-HSA-909733.1\"\n",
    "<div class=tip>** TIP**: Selected nodes appear yellow (or highlighted) in the network </div><BR>\n",
    "* Once you have selected a node or group of nodes of interest the heatmap can be used to elucidate the relationship of the differentially expressed genes to the enrichment results and help uncover  genes or pathways that would be beneficial to follow-up with.  In the Table Panel in the \"Heat map (nodes)\" tab change:\n",
    "  * Normalizaion from \"Data as is\" to \"Row Normalize Data\" (Figure8 A)\n",
    "  * Sorting from \"Hierarchical clustering\" to \"GSEARanking-Dataset 1\" (Figure8 B)\n",
    "  <img  src=\"figures/Figure_Example_heatmap.png\">\n",
    "  <div class=figlegend>\n",
    "  **Figure 8: Example Heatmap**: Heatmap created from selecting the Immunoreactive geneset (INTERFERON ALPHA BETA SIGNALING%REACTOME%R-HSA-909733.1) **(A)** Normalization options – data can be viewed as it was loaded, row normalized which centres the data (The row mean is subtracted from every value and further divided by the row’s standard deviation), or log transformed. If “show values” is selected then the value for each square is displayed.**(B)** Sorting options – by default the heatmap is sorted by hierarchical clustering.  Other options include sort by ranks (additional rank files can be uploaded through this drop-down as well), or no sort.  Clicking on any of the column names will change the sorting to the selected column.  Additionally clicking on the arrow next to the dropdown box will invert the order of sorting. **(C)** buttons for exporting the heatmap data. \n",
    "  </div>\n",
    "  <BR>\n",
    "  <div class=tip>** Tip**:you will only be able to change the above sorting if you supplied a rank file when you initially created the enrichment map.  If one was not provided then you can still add a rank file directly from heatmap panel but for GSEA results the leading edge can only be calculated if the rank file is specified when the network is being built</div>\n",
    "  <BR><BR>\n",
    "<div class=tip>** Tip**: Genes in the heatmap that are highlighted yellow represent genes part of the leading edge for this gene set, i.e. contributed the most to the enriched phenotype.  Leading edge genes will only be highlighted if an individual node has been selected and the Enrichment Map was created from GSEA results.  </div>\n",
    "* The resulting heatmap can be seen in figure8 . Columns are colored according to phenotype.  For any given analysis red refers to the positive (or up-regulated) phenotype (Mesenchymal in this analysis) and blue the negative (of down-regulated) phenotype (Immunoreactive in this analysis).\n",
    "  <div class=tip>** Tip**if the columns of your heatmap are not colored make sure the phenotypes specified in the Enrichment Map input panel ([Protocol 4](Protocol 4 - Summarize Enrichment Results with Enrichment Maps.ipynb#option2) – phenotype ) match the classes specified in the class file (MesenchymalvsImmunoreactive_rnaseq_classes.cls) </div>"
   ]
  },
  {
   "cell_type": "markdown",
   "metadata": {},
   "source": [
    "<a id='filter'></a>"
   ]
  },
  {
   "cell_type": "markdown",
   "metadata": {},
   "source": [
    "## 3. Save Expression set for group of individual sets\n",
    "In order to conduct further analysis with a selected set of genes all data in the heatmap can be exported to a text file.\n",
    "* Click on “Save Expression Set” in the top right hand corner of Heat map Panel (figure 8C)\n",
    "* Specify the name and location of file to save to.\n",
    "* If only an individual node is selected and the map is from GSEA results a dialog box will appear asking whether you would like to save the leading edge only.  If “Yes” is selected only the highlighted genes will be exported otherwise the entire set is exported to the specified file. \n"
   ]
  },
  {
   "cell_type": "markdown",
   "metadata": {},
   "source": [
    "<a id='saveexp'></a>"
   ]
  },
  {
   "cell_type": "markdown",
   "metadata": {},
   "source": [
    "<div class=tip>  **TIP:** Adjust cut-offs in Legend Panel -Filter results based on p-value, q-value or similarity coeffecient\n",
    "* If the network is too busy with too many nodes you can adjust the p-value and q–value threshold using the sliders in the legend panel(<a href=#figure1C>Figure1</a> C).  This will change the threshold used when creating the network and hide any nodes that do not pass the new threshold.  To add nodes back to the network simply adjust the slider to its original position. \n",
    "<div class=error>** ?TROUBLESHOOTING:** Unable to see “Legend Panel”.  Click on View --> Show Results panel. In Results panel on right hand side of Cytoscape window select “Legend” tab. </div>\n",
    "  <img  src=\"figures/pvalue_sliders.png\">\n",
    "  <div class=figlegend> **Figure 9: p-value and q-value sliders** <BR> Adjust sliders to remove or re-add nodes</div>\n",
    "<BR>\n",
    "* If the network is too inter-connected you can adjust the similarity coefficient threshold to remove edges.  This will change the threshold used when creating the network and hide any edges that do not pass the new threshold.  To add edges back to the network simply adjust the slider to its original position.\n",
    "  <img  src=\"figures/similarity_sliders.png\"><BR>\n",
    "  <div class=figlegend> **Figure 10: similarity co-effecient sliders** <BR> Adjust sliders to remove or re-add edges</div>\n",
    "<BR>\n",
    "Re-layout network - after adjusting cut-offs re-layout network to see how changing the cut-offs affected the network view. We recommend using Layout --> yFiles Layouts --> Organic OR  Layout -->  Perfuse directed Layout --> (none) for best results .  Repeat until the desired general network structure. \n",
    "  <img  src=\"figures/layout.png\">\n",
    "  <div class=figlegend> **Figure 11:Re-layout networrk** <BR>  After adjusting sliders re-layout network to see a better view of the filtered network</div>\n",
    "</div>"
   ]
  },
  {
   "cell_type": "markdown",
   "metadata": {},
   "source": [
    "<a id='figure'></a>"
   ]
  },
  {
   "cell_type": "markdown",
   "metadata": {},
   "source": [
    "## 4. Create a publication ready picture\n",
    "<a id='group'></a>\n",
    "### 1. Group similar classes together\n",
    "     a. Select nodes of one class using Filters\n",
    "       * In Control Panel navigate to “Select” tab\n",
    "       * Click on “+”.\n",
    "       * Select Column filter\n",
    "       * In “Choose column…” dropdown menu select “Node: EM1_NES_dataset1”\n",
    "       * adjust slider to specify all negative values\n",
    "       * Click on “Apply”\n",
    "<img  src=\"figures/filter.png\">\n",
    "<div class=figlegend> **Figure 12: How to use filters to select subset of nodes or edges** </div>\n",
    "\n",
    "<div class=error>** ?TROUBLESHOOTING:** if the filter causes a large subset of the network to be selected a warning message might appear indicating that you are about to cluster (in the gene heat map) a large number of genes.  If you click on \"OK\" cluster will be cancelled and genes will be shown with no sorting.  To cluster the results change value in drop down menu to \"Cluster results anyways\" and click on \"OK\" <img  src=\"figures/cluster_warning.png\">\n",
    "</div>\n",
    "<div class=tip> **Tip:** alternatively, this step can be done manually by selecting nodes using mouse dragging and moving these selected nodes in a desired area of the map using the mouse or trackpad.</div>"
   ]
  },
  {
   "cell_type": "markdown",
   "metadata": {},
   "source": [
    "### 2. **AutoAnnotate the network**\n",
    "<a id='annotate'></a>\n",
    "often clusters within the Enrichment Map represent similar biological processes and themes.  In order to better summarize the Enrichment map we want to be able to annotate each of these clusters with the main general theme associated with it.  To do this we use the Auto Annotate cytoscape App to help us summarize the network and its themes.   Auto Annotate first clusters the network and then uses WordCloud to calculate the most frequent words present in each cluster node labels in efforts to highlight commonalities between the nodes in the cluster. [tips and troubleshooting: make sure that WordCloud and ClusterMaker are installed before running Autoannotate. \n",
    "  * In the Cytoscape menu bar, select: Apps --> WordCloud --> show Wordcloud\n",
    "  * In the WordCloud panel, the network normalization slider bar is set to 0.5 by default – If the normalization factor is set to 0 then the significance of each word is calculated solely on how many occurrences it has in the given cluster.  This may cause very frequent words within the network such as “pathway” or “regulation” to be prominent in annotations.  By increasing the normalization factor, we increase a weight calculated from the ratio of a word frequency in the cluster to its frequency in the entire network to diminish the presence of these recurrent words in the cluster labels\n",
    "  * To launch autoannotate, in the Cytocape menu bar, select: Apps --> AutoAnnotate --> New Annotation Set …. A “AutoAnnotate: Create Annotation Set” window pops up. The default parameters are tuned to work best with Enrichment Map but advanced users can modify any of the following to fine tune their results:\n",
    "<div class=note> **AutoAnnotate parameters**<BR>\n",
    "**Label column** – select the column you would like to use to compute the labels for each cluster.  By default this is set to the Enrichement Map gene set description column (EM_GS_descr) but any string or list of strings can be used to annotate the clusters.<BR><BR>\n",
    "**Cluster Options** – there are two clustering options.  Either you can have Auto Annotate perform clustering using the clustermaker App or you can run your own clustering algorithms.<BR>  1.  Use cluster maker App <BR>\n",
    "<p class=indented> *Cluster algorithm* – choose from the list of possible clustering algorithms supported by Auto Annotate including Affinity Propagation, Cluster fuzzifier, Community clustering, Connected Components Clustering, MCL, and SCPS.  By default this is set to MCL.</p> <p class=indented>*Edge weight column* – any numeric edge attribute column can be used as weights in the clustering algorithm.  By default this is set to EM_similarity_coeffecient which is a measure of how many genes two nodes have in common.  The more genes two nodes have in common the higher the value and therefore the more likely they are to be found in the same cluster.</p><BR>  2. Use existing clusters – users can define their own clusters either through a different App within Cytoscape or externally in a different application.  In order to use these cluster definitions they need to be represented as a node attribute column indicating which cluster each node belongs to.  For instance all nodes in cluster A would have a value of 1 in the specified column.  Not all nodes need to be associated with a cluster.  Null values in the specified column are ignored.</div>\n",
    "  * Click on the  “Create Annotations” button\n",
    "  <div class=tip> **Tip:** Annotation labels are scaled by the number of nodes in each cluster.  Cluster size has no correlation to significance or importance but instead to the level of annotation that exists in the databases.  Annotation labels can all be set to the same size but untoggling “Scale font by cluster size” in the AutoAnnotate Results panel.</div>"
   ]
  },
  {
   "cell_type": "markdown",
   "metadata": {},
   "source": [
    "### 3. Modify visual properties for optimal figure (Tips and Tricks)\n",
    "<a id='modify'></a>\n",
    "**Resulting figure can be seen in [Figure 14](#result).**<BR>\n",
    "You can have Enrichment map automatically make your network figure publication ready by going to the Results Panel.  In the Enrichment Map Legend panel click on “Advanced Preferences”.  Click on the button “Toggle Publication ready” to change the background to white and delete the node labels.  To revert to the original network simply click on the “Toggle Publication ready” button again.\n",
    "<div class=tip> If you don’t like the view generated from the “Toggle Publication ready” command you can manually set the visual attributes of the network. </div>"
   ]
  },
  {
   "cell_type": "markdown",
   "metadata": {},
   "source": [
    "**The “Toggle Publication ready” view can be done manually using the following steps:**\n",
    "  1. Set Network background to white for better visibility \n",
    "    * In Control Panel located on the left side of the window,  navigate to “Style” tab\n",
    "    * Click on “Network” tab at bottom of panel<BR>\n",
    "    * Click on purple square next to “Background Paint”\n",
    "    * Click on the white square at the top left corner of the color table followed by “OK”\n",
    "  1. Delete node labels – for large networks individual node labels can overcomplicate the figure [note: it will delete the individual node labels only but not the module labels from auto-annotate]\n",
    "    * In Control Panel navigate to “Style” tab\n",
    "    * Click on “Node” tab at bottom of panel\n",
    "    * Right click on “Label”\n",
    "    * Select Edit --> Remove Mapping from Selected Visual Properties<BR><BR>\n",
    "\n",
    "**Other common visual modifications include:**\n",
    "  1. **Change edge color** – Enrichment map edges are set to green but for better clarity on figures some like to set the edges to a light gray. \n",
    "    * In Control Panel navigate to “Style” tab\n",
    "    * Click on “Edge” tab at bottom of panel\n",
    "    * Expand “Stroke Color (Unselected)” by clicking on the arrow.\n",
    "    * Click on the color next to the zero.\n",
    "    * Click on the ‘…’ button\n",
    "    * Select the color gray and click 'Ok'\n",
    "<div class=tip> **Tip:** There are three values specified for the edge color.  By default in a single dataset analysis all edges are set to zero.  When there are two datasets and there is a different universe of genes for each dataset edges are calculated separately for dataset 1 and dataset 2.  The created edges have different values for  EM_ENRICHMENT_SET (1 and 2, respectively) and different colors.</div><BR><BR>\n",
    "  1. **Modify node size (GSEA)** – by default the nodes are sized according to geneset size.  The larger the geneset the larger the node.  As we often gravitate to what is larger it is a good adjustment to map the significance to the node size so genesets that have higher significance stand out more.  For GSEA results the best metric to use for this is the Normalized Enrichment Score which is a measure that indicates both significance and phenotype.  \n",
    "    * In Control Panel navigate to “Style” tab\n",
    "    * Click on “Node” tab at bottom of panel\n",
    "    * Right click on “Size”\n",
    "    * Select Edit --> Remove Mapping from Selected Visual Properties\n",
    "    * If “Size” is not expanded click on arrow next to “Size” to show options.\n",
    "    * Set “Column” to “EM1_NES_dataset1”\n",
    "    * Set “Mapping Type” to “Continuous Mapping”\n",
    "    * Click on graph next to “Current Mapping”\n",
    "    * Click on Add button (figure 13A)\n",
    "<img src=\"figures/Figure_nodesize_mapping.png\">\n",
    "<div class=figlegend> **Figure 13: Defining continuous mapping for node size.** </div>\n",
    "    * A new arrow will appear on the graph.  Click on the new arrow (figure13B)\n",
    "    * In Edit Handle Positions and Values Set “Handle Position” to 0 and “Node Size” to 5 (figure 13C) \n",
    "    <div class=tip> **Tip:** clicking on any of the arrows will update the Edit Handle Positions and Values to values assigned for the selected arrow. </div>\n",
    "    * Click on the arrow to the far left. (figure 13D).\n",
    "    * In Edit Handle Positions and Values Set “Handle Position” to -2.8002 and “Node Size” to 30 (figure 13C).\n",
    "    <div class=tip> **Tip:** you shouldn’t have to modify the Handle Position as it should automatically be set to the minimum value available for this attribute.  If it is not or if you want to make the min and max balanced click on “Set Min and Max…” to manually set the minimum and maximum values.</div>"
   ]
  },
  {
   "cell_type": "markdown",
   "metadata": {},
   "source": [
    "### 4. Export the image\n",
    "<a id='export'></a>\n",
    "  * In the Cytoscape menu bar, select File --> Export --> Network --> Network view as Graphics…\n",
    "  * Set “Select the export file format” to “PDF (.pdf)”\n",
    "  * Click on “Browse…” to specify file name and location\n",
    "  * Click on “Save” to close the browser window\n",
    "  * Click on “OK”\n",
    "  * A window “Export Network” will pop up , click on the “OK” button\n",
    "<div class=tip> **Tip:** only the part of the map that is visible on the screen will be exported: make sure that the entire network is visible on your screen before doing the export </div><BR>\n",
    "<div class=tip> **Tip:** The network can be exported as pdf, png, jpg, ps or svg.  For publication ready figures export to pdf or svg.  Either file type can be tweaked manually, adjusting label positions or colors using programs such as illustrator or inkscape.  For high quality figures to be used on webpages export to png. </div>"
   ]
  },
  {
   "cell_type": "markdown",
   "metadata": {},
   "source": [
    "### 5. Publication ready figure\n",
    "<a id='result'></a>\n",
    "<img src='figures/EM_final_annot_gsea.png'>\n",
    "<div class=figlegend>**Figure 14: Publication ready figure**<BR>Publication ready annotated Enrichment map.  Red node – mesenchymal type- and blue nodes were separated.  Clusters of nodes were labelled using the Auto Annotate Cytoscape App. Background was set to white and individual node labels were removed for clarity.  The figure was made publication ready using the publication ready toggle in Enrichment map and exported to png and pdf.  No additional modifications were made to the network in any illustration software tools. </div>"
   ]
  },
  {
   "cell_type": "markdown",
   "metadata": {},
   "source": [
    "<a id='summarize'></a>\n",
    "## 5. Summarize the Network\n",
    "Create collapsed simplified view of the network. Resulting figure can be seen in [Figure 15](#collapsed). Often users gravitate towards large clusters that appear in the enrichment results but in this case size not indicate importance or strength rather the amount of database annotations there exist for a particular pathway or process.  Single nodes represent processes that are less well know and studied but are no less important than the large clusters.  In order to remove the bias introduced by redundant pathway annotations it is good to collapse the network, i.e. create a single group node for every cluster whose name is summary annotation calculated for it, in order to more easily see the overall themes present in the enrichment results.\n",
    "  * In the Cytoscape Control Panel select the “AutoAnnotate” Tab\n",
    "  * Click on the Menu icon    in the upper right hand corner.\n",
    "  * Select “Collapse All”\n",
    "  <div class=error> **?Troubleshooting:** Once you click on “Collapse All” a window pops up saying Before collapsing clusters please go to the menu Edit->Preferences->Group preferences and select “Enable attribute aggregation”.  If you have previously set this parameter there is no nead to set it every time.    Click on “Don’t ask me again” and “OK”.  Otherwise update your group preferences accordingly</div>\n",
    "  * Scale collapsed network for better viewing\n",
    "    * In the Cytoscape menu bar, select: View --> Show Tool Panel\n",
    "    * Go to Tool Panel located  at the bottom of the Control Panel\n",
    "    * Click on the “Scale” Tab\n",
    "    * Move slider to left in order to bring the nodes tighter together"
   ]
  },
  {
   "cell_type": "markdown",
   "metadata": {},
   "source": [
    "<a id='collapsed'></a>\n",
    "<img src='figures/Figure8_EM_collapsed.png'>\n",
    "<div class=figlegend>**Figure 15 – Collapsed Enrichment Map**<BR> The network was further summarized by collapsing clusters using the AutoAnnotate app.  The network was scaled for better node distribution and manually adjusted for best results. The Enrichment Map was exported to png and pdf.  No additional modifications were made to the network in any illustration software tools. </div>"
   ]
  },
  {
   "cell_type": "markdown",
   "metadata": {},
   "source": [
    "## 6. Highlighting a small section of the network\n",
    "<a id=\"subnetwork\"></a>\n",
    "Creating a subnetwork containing just the nodes and edges of interest allows us to highlight a subsection of the network.\n",
    " * Select subsection of the network that you want to create a subnetwork of.  As an example select all genesets that contain the gene “COL1A61” (one of the top differential genes upregulated in Mesenchymal samples). Enter “COL1A61” into the search bar in the top right of the cytoscape panel.\n",
    " * Manually select nodes part of clusters where the nodes of interest are highlilghted.\n",
    " * Select File->New->Network->From selected nodes all edges\n",
    " <div class=tip> **TIP:** Click on the shortcut button from the tool bar to do the same thing. <img src='figures/subnetwork_button.png'></div>\n",
    " <div class=error> **?Troubleshooting:**If you try and re-annotate the resulting subnetwork the annotations might be different than the original network.  If the normalization factor in the original network was set to zero (ie. Words are not weighted according by occurrence in the entire network) then re-annotating in the subnetwork should give the same results. If the normalization factor was anything other than zero the subnetwork annotations will be different in the subnetwork. </div>\n",
    " * Manually move nodes in network to get optimal arrangement for figure "
   ]
  },
  {
   "cell_type": "markdown",
   "metadata": {},
   "source": [
    "<div class=tip> **TIP:** Sometimes it is useful to move the node labels for some of the nodes but not other.  To change the position a of selection of node labels:\n",
    " * select the nodes you wish to change.\n",
    " * In the Style tab of the Control Panel click on ‘Properties’ and make sure that ‘Label Position’ is selected (has a checkmark next to id).\n",
    " * In the Style tab click on square next to ‘Label Position’ under the ‘Byp’ column.\n",
    " <img src='figures/label_position_byp.png'>\n",
    " * Move the label position to the left side of the node.\n",
    " <img src='figures/label_position_move.png'>\n",
    " * Bypass visual mappings sets a specific attribute for only a subset of the nodes.  If you would like to change the label position for all nodes instead of clicking box under ‘Byp’ click on the box under ‘Def’ to define the default label position for all nodes in the network."
   ]
  },
  {
   "cell_type": "markdown",
   "metadata": {},
   "source": [
    "<img src='figures/Figure_subnetwork_result.png'>\n",
    "<div class=figlegend> **Figure 16: Zoom in on subsection of network**</div>"
   ]
  },
  {
   "cell_type": "code",
   "execution_count": 14,
   "metadata": {
    "collapsed": false
   },
   "outputs": [
    {
     "data": {
      "text/html": [
       "<style>\n",
       "div.error {\n",
       "\tpadding : 20px;\n",
       "\tborder : 5px solid red;\n",
       "\tborder-radius : 30px;\n",
       "\tbackground-color : orange;\n",
       "\tbox-shadow: 10px 10px 30px grey;\n",
       "\t}\n",
       "div.warn {    \n",
       "    background-color: #fcf2f2;\n",
       "    border-color: #dFb5b4;\n",
       "    border-left: 5px solid #dfb5b4;\n",
       "    padding: 0.5em;\n",
       "    }\n",
       "div.tip {\n",
       "    background-color: #ff99cc;\n",
       "    border-color: #ff33cc;\n",
       "    border-left: 10px solid #ff33cc;\n",
       "    padding: 0.5em;\n",
       "}\n",
       "div.note {\n",
       "    background-color: #d9d9d9;\n",
       "    padding: 0.5em;\n",
       "}\n",
       "div.figlegend {\n",
       "    background-color: white;\n",
       "    border : 2px solid black;\n",
       "    padding: 2px;\n",
       "}\n",
       ".TextWrap{\n",
       "\tfloat: right;\n",
       "\tmargin: 1px;\n",
       "}\n",
       ".indented { \n",
       "\tpadding-left: 25pt; \n",
       "\tpadding-right: 25pt; \n",
       "}\n",
       "\n",
       "\n",
       " </style>\n"
      ],
      "text/plain": [
       "<IPython.core.display.HTML object>"
      ]
     },
     "execution_count": 14,
     "metadata": {},
     "output_type": "execute_result"
    }
   ],
   "source": [
    "from IPython.core.display import HTML\n",
    "\n",
    "\n",
    "def css_styling():\n",
    "    styles = open(\"./styles/custom.css\", \"r\").read()\n",
    "    return HTML(styles)\n",
    "css_styling()"
   ]
  },
  {
   "cell_type": "code",
   "execution_count": 15,
   "metadata": {
    "collapsed": false
   },
   "outputs": [
    {
     "data": {
      "text/html": [
       "<script>\n",
       "code_show=true; \n",
       "function code_toggle() {\n",
       " if (code_show){\n",
       " $('div.input').hide();\n",
       " } else {\n",
       " $('div.input').show();\n",
       " }\n",
       " code_show = !code_show\n",
       "} \n",
       "$( document ).ready(code_toggle);\n",
       "</script>\n",
       "<form action=\"javascript:code_toggle()\"><input type=\"submit\" value=\"Click here to toggle on/off the raw code.\"></form>"
      ],
      "text/plain": [
       "<IPython.core.display.HTML object>"
      ]
     },
     "execution_count": 15,
     "metadata": {},
     "output_type": "execute_result"
    }
   ],
   "source": [
    "from IPython.display import HTML\n",
    "\n",
    "HTML('''<script>\n",
    "code_show=true; \n",
    "function code_toggle() {\n",
    " if (code_show){\n",
    " $('div.input').hide();\n",
    " } else {\n",
    " $('div.input').show();\n",
    " }\n",
    " code_show = !code_show\n",
    "} \n",
    "$( document ).ready(code_toggle);\n",
    "</script>\n",
    "<form action=\"javascript:code_toggle()\"><input type=\"submit\" value=\"Click here to toggle on/off the raw code.\"></form>''')"
   ]
  },
  {
   "cell_type": "code",
   "execution_count": null,
   "metadata": {
    "collapsed": true
   },
   "outputs": [],
   "source": []
  }
 ],
 "metadata": {
  "kernelspec": {
   "display_name": "Python 3",
   "language": "python",
   "name": "python3"
  },
  "language_info": {
   "codemirror_mode": {
    "name": "ipython",
    "version": 3
   },
   "file_extension": ".py",
   "mimetype": "text/x-python",
   "name": "python",
   "nbconvert_exporter": "python",
   "pygments_lexer": "ipython3",
   "version": "3.5.1"
  }
 },
 "nbformat": 4,
 "nbformat_minor": 0
}
