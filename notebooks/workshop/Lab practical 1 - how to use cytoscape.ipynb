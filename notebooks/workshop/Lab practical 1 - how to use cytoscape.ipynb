{
 "cells": [
  {
   "cell_type": "markdown",
   "metadata": {},
   "source": [
    "# Lab practical 1: How to Use Cytoscape"
   ]
  },
  {
   "cell_type": "markdown",
   "metadata": {},
   "source": [
    "-------------------------"
   ]
  },
  {
   "cell_type": "markdown",
   "metadata": {},
   "source": [
    "## Goals:\n",
    " * Import a .sif file to create a network\n",
    " * Navigate through a network and study main Cytoscape network tools.\n",
    " * Create a subnetwork\n",
    " * Try different layouts\n",
    " * Import node attributes\n",
    " * Save a session (save your network)\n"
   ]
  },
  {
   "cell_type": "markdown",
   "metadata": {},
   "source": [
    "-------------------------"
   ]
  },
  {
   "cell_type": "markdown",
   "metadata": {},
   "source": [
    "## Introduction"
   ]
  },
  {
   "cell_type": "markdown",
   "metadata": {},
   "source": [
    "**What data are we going to use?**\n",
    "\n",
    "The data (<a href=\"workshop_data/bind2.sif\" download=\"bind.sif\">bind2.sif</A>) used for this lab practical is a a subset of the BINDHuman.sif file located in the sampleData directory released with Cytoscape3.  The sampleData directory contains example data used in the the online wiki Cytoscape tutorials that are found at http://opentutorials.cgl.ucsf.edu/index.php/Portal:Cytoscape3.\n",
    "\n",
    "><span style=\"color:purple\">** TIP: the cytoscape sample data is located in the Cytoscape directory.<BR>      For default Cytoscape instalations:<BR> on Mac it can be found in /Applications/Cytoscape_v3.3.0/sampleData. <BR> On Windows it can be found in C:\\Program Files\\Cytoscape_v3.3.0\\sampleData **</span>"
   ]
  },
  {
   "cell_type": "markdown",
   "metadata": {},
   "source": [
    "BIND (the Biomolecular Interaction Network Database) archives biomolecular interaction, complex and pathway information (<a href=\"https://www.ncbi.nlm.nih.gov/pubmed/?term=12519993\">PMID:12519993</a>). The network created during this exercise represents protein-protein interactions. A node (circle) is a protein and an edge (line between 2 nodes) is a known interaction between 2 proteins. One protein can have multiple interactions. "
   ]
  },
  {
   "cell_type": "markdown",
   "metadata": {},
   "source": [
    "** What is the format of a  Simple Interaction File (SIF or .sif format)?**\n",
    "\n",
    "http://wiki.cytoscape.org/Cytoscape_User_Manual/Network_Formats\n",
    "The SIF format specifies nodes and interactions. Lines in the SIF file specify a source node, a relationship type (or edge type), and one or more target nodes. This file can be created using a simple text editor and imported into Cytoscape as a network file.\n",
    "\n",
    "example: <BR>\n",
    "\n",
    "    geneA pp geneB <BR> \n",
    "    geneA pp geneC <BR>\n",
    "    geneB pp geneC <BR>\n",
    "\n",
    "‘pp’ is the abbreviations for protein-protein interaction.\n"
   ]
  },
  {
   "cell_type": "markdown",
   "metadata": {},
   "source": [
    "** How to import extra layers of information using node or edge attributes? **\n",
    "\n",
    "One advantage of network visualization is the ability to superimpose multiple layers of information on the same base network. As an example, an attribute file (<a href=\"workshop_data/cancer_driver_node_attributes.csv\" download=\"cancer_driver_node_attributes.csv\">cancer_driver_node_attributes.csv</A>) containing mutational cancer driver genes across 12 tumor types is going to be loaded as node attributes (Supplementary Table2 from <a href=\"https://www.ncbi.nlm.nih.gov/pubmed/?term=24084849\"> PMID:24084849</a>) . These potential cancer driver genes will be highlighted on the network by modifying the visual style to accentuate them. "
   ]
  },
  {
   "cell_type": "markdown",
   "metadata": {},
   "source": [
    "## Start the exercise"
   ]
  },
  {
   "cell_type": "markdown",
   "metadata": {},
   "source": [
    "To start the lab practical section,  first download the files (click on each file to download it to your computer):\n",
    "   * <a href=\"workshop_data/bind2.sif\" download=\"bind.sif\">bind2.sif</A>\n",
    "   * <a href=\"workshop_data/cancer_driver_node_attributes.csv\" download=\"cancer_driver_node_attributes.csv\">cancer_driver_node_attributes.csv</A>\n",
    " ><span style=\"color:purple\">** TIP:If your browser doesn't automatically download either of the above files but instead opens it in your browser.  Right click and select \"save as\".  Make sure when you save the file that it saves it as \"bind2.sif\" and not \"bind2.sif.txt\".** </span>\n",
    " \n",
    "* Follow the steps described below at your own pace.\n",
    "* Check a step once you have completed it.\n",
    "* One optional exercise is placed at the bottom of the page\n",
    "* Answer to the questions are written at the very end of the document."
   ]
  },
  {
   "cell_type": "markdown",
   "metadata": {},
   "source": [
    "## Steps:"
   ]
  },
  {
   "cell_type": "markdown",
   "metadata": {},
   "source": [
    "### 1. Launch Cytoscape\n",
    "  <img src=\"workshop_figures/step1.png\">\n",
    "### 2. Import network\n",
    "  * Locate ‘File’ in the main menu bar \n",
    "  * select ‘Import’, ‘Network’, ‘File …’\n",
    "  <img src=\"workshop_figures/step2.png\">\n",
    "  * Browse and locate the ‘BIND2.sif’ file\n",
    "  * click on ‘Open’. \n",
    "  * An ‘Import Networks’ window pops up: select ‘OK’. \n",
    "  \n",
    "  **The network is now displayed in the main window.**\n",
    "  \n",
    "   ><span style=\"color:purple\">** TIP: notice the shortcut keys (command + L on a Mac, and Ctrl + L on Windows) to quickly import a file as a network.  ** </span>\n",
    "\n",
    "### 3. Explore the network.\n",
    "  * Locate the ‘Zoom In’ icon located in the ‘Cytoscape Tools’ bar at the top of the session window. Zoom in until you are able to comfortably read the node labels. \n",
    "  <img src=\"workshop_figures/step3.png\">\n",
    " ><span style=\"color:purple\">** TIP: mouse over all the icons of the ‘Cytoscape Tools’ bar to get a description of all the icons and get familiarized with available shortcuts. ** </span>\n",
    " \n",
    "### 4. Network navigation\n",
    "To be able to move the network and center on modules or nodes of interest, locate the ‘Control Panel’ on the left side, find and select the ‘Network’ tab. At the bottom of the tab, click on the blue rectangle. Navigate through the entire network to examine the different proteins and their interactions by moving the blue rectangle (bird eye view).  \n",
    "  <img src=\"workshop_figures/step4.png\">\n",
    "  \n",
    "## Question: list 2 proteins that have the highest number of interactions. \n",
    "\n",
    " ><span style=\"color:red\"> Advanced topic: NetworkAnalyzer is a tool that automatically computes network features including degree distribution, topological coefficients, connectivity : in the menu bar , select: “Tools → Network Analyzer → Network Analysis → Analyze Network…”  </span>\n",
    "\n",
    "### 5. Network search\n",
    " * Locate the search box in the ‘Cytoscape Tools’ bar and enter ‘Brca1’. \n",
    " * Hit “Enter”. \n",
    " * The ‘Brca1’ node is highlighted in yellow. \n",
    "   <img src=\"workshop_figures/step5.png\">\n",
    " ><span style=\"color:purple\">** TIP: navigate through the network to locate this node using the bird eye view. ** </span>\n",
    " \n",
    "### 6. Create Subnetwork\n",
    "  * To create a subnetwork of the proteins directly associated with ‘BRCA1’,First select the node of interest, BRCA1. (step 5)\n",
    "  * locate and click the ‘First Neighbors of Selected Nodes’ icon (2 houses) on the ‘Cytoscape Tools’ bar. ‘BRCA1’ and the direct interacting proteins are highlighted in yellow. \n",
    "  * Click on the ‘New Network From Selection (all edges)’ icon. \n",
    "  * A subnetwork of the selected nodes appears on a new window. \n",
    "     <img src=\"workshop_figures/step6_7.png\">\n",
    " ><span style=\"color:purple\">** TIP: a subnetwork can be useful for example when preparing a figure for publication\n",
    " ** </span>\n",
    "\n",
    "### 7. Return to original network\n",
    "  *  In the ‘Network’ tab of the ‘Control Panel’ window, you can see a list of all networks created during a session. Locate the original network and click on it to display it on the main window.\n",
    "     <img src=\"workshop_figures/step8.png\">\n",
    " ><span style=\"color:purple\">** TIP: The number of nodes (514) and Edges (471) can help you differentiate it from the subnetwork which contains only 42 nodes and 47 edges.  Also, changing the network name helps to distinguish networks from their subnetworks.  Right click on the network name in the control panel and select “Rename…”.  In pop up box enter “BRCA1_interactions” and click on OK. ** </span>\n",
    "\n",
    "### 8. Hide and display selected edges or nodes\n",
    "  * mouse over a few nodes of your choice to select them;  \n",
    "  * Locate and click on the “Hide selected nodes and edges” icon from the ‘Cytoscape Tools’ bar. \n",
    "  * Locate and click on the ‘Show all nodes and edges’ to display the hidden nodes and edges.\n",
    "\n",
    "><span style=\"color:purple\">** TIP:<BR> To select, display, delete edges and nodes, more options like ‘inverting the selection’ are available  under:  menu bar → Select → nodes or menu bar →  Select → edges. <BR><BR> It is also possible to completely deleted nodes or edges by selecting the nodes and genes and use the keyboard ‘delete’ key.  ** </span>\n",
    "\n",
    "### 9. Layout network\n",
    "Networks typically rely on automated layout algorithms to position nodes and edges. Cytoscape comes with a wide variety of built-in layout algorithms. Selecting an appropriate layout can be very important for best visualization and interpretation of your data. \n",
    "  * Try circular layout by locating ‘Layout’ in the menu bar and ‘Circular layout’\n",
    "  * Try organic layout by locating ‘Layout’ in the menu bar and ‘yFiles layout’ → ‘Organic’. \n",
    "<img src=\"workshop_figures/step9.png\">  \n",
    "\n",
    "## Question: what is the default Cytoscape layout?\n",
    "  \n",
    "  ><span style=\"color:purple\">** TIP:<BR> undo the result of a layout by selecting: menu bar → Edit → Undo (notice the shortcut keys to do it : command + z on Mac or ctrl + z on Windows) <BR><BR> explore the different possible layout features (e.g align,scale, ...) <BR><BR>  it is possible to change the default layout: menu bar → Layout → Settings… → Preferred Layout ; select the algorithm and “Done”.  <BR><BR> Some layouts will let you layout just a selection of nodes as opposed to the whole network.** </span>\n",
    "  \n",
    "### 10. Figure preparation\n",
    " It is possible to modify the shape of the edges: \n",
    " * In the menu bar, select ‘Layout’,’Bundle Edges’ and  ‘All nodes and Edges’. \n",
    " * Click on one edge and modify the shape by moving the control points. \n",
    " \n",
    "<img src=\"workshop_figures/step10.png\"> \n",
    "\n",
    "### 11. Add attributes to the network\n",
    "Import a list of cancer driver genes as node attributes:\n",
    "  *  In the menu bar, select ‘File’, ‘Import’, ‘Table’, ‘File…’ .\n",
    "  <img src=\"workshop_figures/step11.png\"> \n",
    "  *   Locate the ‘cancer_driver_node_attributes.csv’ file, \n",
    "  * ‘Open. \n",
    "  * An ‘Import Columns From Table’ windows pops up. \n",
    "  * Click ‘OK’. \n",
    "  \n",
    "### 12. Translate loaded attribute to network visual style\n",
    "  * Locate the ‘Control Panel’ on the left size and select ‘Style’. \n",
    "  * Expand the ‘Fill Color’ field by using the arrow on the right side.\n",
    "  * Select ‘Putative Driver Category’ as ‘Column’ ; \n",
    "  * Select ‘Discrete Mapping’ as ‘Mapping Type’. \n",
    "  * Choose a color of your choice for the ‘Candidate driver’ category and another color for the ‘High Confidence Driver’ category by opening the color chart using the 3 dots (...) button and by clicking on ‘OK’.  \n",
    "  * Proteins that are potential cancer driver are now highlighted with distinctive colors on the network.\n",
    "  \n",
    "  <img src=\"workshop_figures/step12.png\">\n",
    "  \n",
    "### 13. Save session\n",
    "  *  from the menu bar, select ‘File’, ‘Save as..’ and choose a name for the network. The extension .cys will be automatically added to the name of the file. \n",
    "\n"
   ]
  },
  {
   "cell_type": "markdown",
   "metadata": {},
   "source": [
    "## Answers to questions:\n",
    "\n",
    "**Step 4:** <BR>\n",
    "Questions: cite 2 proteins which are showing the highest number of interactions.<BR>\n",
    "Answer: BRCA1 and PCNA \n",
    "\n",
    "**Step 9:**<BR>\n",
    "Question: what is the default Cytoscape layout?<BR>\n",
    "Answer: prefuse directed layout\n"
   ]
  },
  {
   "cell_type": "code",
   "execution_count": null,
   "metadata": {
    "collapsed": true
   },
   "outputs": [],
   "source": [
    "## OPTIONAL EXERCISE:\n",
    "Here is a small subnetwork taken from the previous exercise.\n",
    "<img src=\"workshop_figures/\">\n",
    "\n",
    "From this graph, try to guess and create the underlying SIF file:\n",
    "Create the sif file\n",
    "Import it into Cytoscape to recreate the network\n",
    "\n",
    "Tips:\n",
    "First 2 lines are: \n",
    "CD28 pp CD80\n",
    "CD28 pp Itk\n",
    "Open a text editor, type each line needed to created the full subnetwork, insert a tab after each word, save as .sif file or save as .txt file and change the extension to .sif."
   ]
  },
  {
   "cell_type": "code",
   "execution_count": null,
   "metadata": {
    "collapsed": true
   },
   "outputs": [],
   "source": []
  }
 ],
 "metadata": {
  "kernelspec": {
   "display_name": "R",
   "language": "R",
   "name": "ir"
  },
  "language_info": {
   "codemirror_mode": "r",
   "file_extension": ".r",
   "mimetype": "text/x-r-source",
   "name": "R",
   "pygments_lexer": "r",
   "version": "3.2.2"
  }
 },
 "nbformat": 4,
 "nbformat_minor": 0
}
