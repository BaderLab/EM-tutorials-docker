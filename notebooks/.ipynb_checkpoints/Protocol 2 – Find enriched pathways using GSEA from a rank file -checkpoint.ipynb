{
 "cells": [
  {
   "cell_type": "markdown",
   "metadata": {},
   "source": [
    "# Protocol 2 – Find enriched pathways using GSEA from a rank file "
   ]
  },
  {
   "cell_type": "markdown",
   "metadata": {},
   "source": [
    "----------------------"
   ]
  },
  {
   "cell_type": "markdown",
   "metadata": {},
   "source": [
    "**Table of Contents:**\n",
    "  1. <a href=#setup>Launch GSEA</a>\n",
    "  1. <a href=#load> Load data</a>\n",
    "  1. <a href=#parameters>Adjust parameters</a>\n",
    "  1. <a href=#run> Run GSEA</a>"
   ]
  },
  {
   "cell_type": "markdown",
   "metadata": {
    "collapsed": true
   },
   "source": [
    "----------------------"
   ]
  },
  {
   "cell_type": "markdown",
   "metadata": {},
   "source": [
    "<a id='setup'></a>"
   ]
  },
  {
   "cell_type": "markdown",
   "metadata": {},
   "source": [
    "## 1. Launch GSEA"
   ]
  },
  {
   "cell_type": "markdown",
   "metadata": {},
   "source": [
    "Double click on the GSEA Web start file downloaded. <BR>\n",
    "><span style=\"color:red\">** ?TROUBLESHOOTING: if GSEA does not launch by clicking on the Java Web start downloaded from the the GSEA website because of permissions or other issues GSEA can be launched from the command line.** <BR> </span>\n",
    "  * Open a command window on windows or terminal on Mac.  \n",
    "  * Navigate to the directory where you downloaded the javaGSEA.jar.  [for example: cd ~/Downloads]\n",
    "  * Run ‘java –Xmx8G –jar gsea2-2.2.0.jar’ [where –Xmx specifies how much memory to give to GSEA] "
   ]
  },
  {
   "cell_type": "markdown",
   "metadata": {},
   "source": [
    "<a id='load'></a>"
   ]
  },
  {
   "cell_type": "markdown",
   "metadata": {},
   "source": [
    "## 2. Load Data"
   ]
  },
  {
   "cell_type": "markdown",
   "metadata": {},
   "source": [
    "GSEA accesses the GMT files from MSigDB website directly but the user can also supply their own file.  We recommend for users doing an analysis in Human, Mouse or Rat to download monthly updated gmt files from http://download.baderlab.org/EM_Genesets/current_release/ and load them into GSEA manually.  There are multiple file options available.  For description of source databases and file structure see http://baderlab.org/GeneSets. By default we recommend using HumanGOBP_AllPathways_no_GO_iea_{Date}_{ID}.gmt.<BR>\n",
    " ><span style=\"color:purple\">** TIP:If there are no or sparse results from the enrichment analysis using this file then using the gmt file including inferred annotations (file 3) or the file including all GO annotations (file 1 or 2) can help expand your results.  On the other hand if there is an abundance of results or you wish to focus on specific pathways you can use the set derived just from pathway databases (file 5) or choose a specific database or set of databases from the Pathways directory.**</span>\n",
    "\n",
    "To Load data:\n",
    " 1. Under “Steps in GSEA Analysis” in top left corner click on “Load Data”. \n",
    " 1. In the “Load Data” Tab \n",
    " 1. click on “Browse for files …”\n",
    " 1. Navigate to the directory with the protocol files \n",
    " 1. Select rnk file created in supplementary protocol 1 or 2\n",
    " 1. Select the gene set definition (GMT) file.\n",
    " 1. click on the \"Open” button. <BR>\n",
    " <img src =\"figures/gsea_load_files.png\">\n",
    "  ><span style=\"color:purple\">** TIP:it takes about 5-10 seconds for GSEA to load the files. The files are loaded successfully once a message appears on the screen “Files loaded successfully:2/2 There were no errors”**</span><BR>\n",
    "  <img src=\"figures/gsea_load_confirmation.png\">"
   ]
  },
  {
   "cell_type": "markdown",
   "metadata": {
    "collapsed": true
   },
   "source": [
    "<a id='parameters'></a>"
   ]
  },
  {
   "cell_type": "markdown",
   "metadata": {},
   "source": [
    "## 3. Adjust parameters"
   ]
  },
  {
   "cell_type": "markdown",
   "metadata": {},
   "source": [
    " * Under the “Tools” menu select “GseaPreRanked” \n",
    " * “Run GSEA on a Pre-Ranked gene list” tab will appear. <BR>\n",
    " <img src=\"figures/gsea_preranked.png\">\n",
    " * Specify the following parameters:\n",
    "   * **Gene sets database** - \n",
    "     * click on the radio button (…) located at the right of the blank field. \n",
    "     * Wait 5-10sec for the gene-set selection window to appear. \n",
    "     * Use the right arrow in the top field to see the Gene matrix (local gmx/gmt) tab. \n",
    "     * Click to highlight “Human_GOBP_AllPathways_no_GO_iea_December_24_2015_symbol.gmt”.\n",
    "     * click on OK at the bottom of the window. <BR>\n",
    "     <img src=\"figures/gsea_gmt.png\">\n",
    "     * “Human_GOBP_AllPathways_no_GO_iea_December_24_2015_symbol.gmt” is now visible in the field corresponding to Gene sets database.\n",
    "   * **Number of permutations** - 1000. The number of permutations is the number of times that the genesets will be randomized in order to create a null distribution to calculate the FDR.\n",
    "   * **Ranked list** - select by clicking on the arrow and highlighting rank file. \n",
    "   * **Collapse dataset to gene symbols** - set to \"false\".\n",
    "   * **Chip platform(s)** - should be left empty.\n",
    "   ><span style=\"color:red\">** ?TROUBLESHOOTING: By default GSEA sets “Collapse dataset to gene symbols” to TRUE.  This only needs to be set to TRUE if the expression or rank file contains probe ids.  If you forget to change this parameter GSEA will end almost immediately after starting with red Error written next to the run just start.  Double clicking on “Error” will display “Chip parameter must be specified as you asked to analyze in the space of gene symbols. Chip is used to collapse probe ids into symbols.”  Set sets “Collapse dataset to gene symbols” to FALSE and re-run.**  </span> \n",
    "   * Click on “Show” button next to “Basic Fields” to display extra options.\n",
    "   * **Analysis name** – change default “my_analysis” to name specific to analysis for example Mesen_vs_Immuno_edgeR.  GSEA will use your specified name as part of the name of the results directory it creates.\n",
    "   * **Save results in this folder** – navigate to where you want GSEA to put the results folder.  By default GSEA will put the results into the directory gsea_home/output/[date] in your home directory.\n",
    "   * **Min size: exclude smaller sets** – By default GSEA sets the lower limit to 15. In this protocol, the minimum is set to 10 to increase some of the smaller sets in the results. <BR>\n",
    "   <img src=\"figures/gsea_parameters.png\">"
   ]
  },
  {
   "cell_type": "markdown",
   "metadata": {
    "collapsed": true
   },
   "source": [
    "<a id='run'></a>"
   ]
  },
  {
   "cell_type": "markdown",
   "metadata": {},
   "source": [
    "## 4. Run GSEA"
   ]
  },
  {
   "cell_type": "markdown",
   "metadata": {},
   "source": [
    "Click on “Run” button located at the bottom right corner of the window.\n",
    " ><span style=\"color:purple\">** TIP: Expand the window size if the run button is not visible**</span><BR>\n",
    "\n",
    "On the panel located on the left side of the GSEA window,  th e bototom panel called ‘the GSEA report table’  will show that it has created a process with a message that it is “Running”.<BR>\n",
    "On completion the status message will be updated to “Success…”.<BR>\n",
    " ><span style=\"color:purple\">** TIP: To check on the status of the GSEA run in the bottom left hand corner you can click on the “+” (red circle in below Figure) to see the updating status. Printouts in the format “shuffleGeneSet for GeneSet 5816/5821 nperm: 1000” indicate how many permutations have been done (5816) out of the total that need to be performed (5821).**</span><BR>\n",
    " <img src=\"figures/gsea_running.png\">"
   ]
  },
  {
   "cell_type": "code",
   "execution_count": null,
   "metadata": {
    "collapsed": true
   },
   "outputs": [],
   "source": []
  }
 ],
 "metadata": {
  "kernelspec": {
   "display_name": "R",
   "language": "R",
   "name": "ir"
  },
  "language_info": {
   "codemirror_mode": "r",
   "file_extension": ".r",
   "mimetype": "text/x-r-source",
   "name": "R",
   "pygments_lexer": "r",
   "version": "3.2.2"
  }
 },
 "nbformat": 4,
 "nbformat_minor": 0
}
