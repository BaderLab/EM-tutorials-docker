{
 "cells": [
  {
   "cell_type": "markdown",
   "metadata": {},
   "source": [
    "# Protocol 1 - Find enriched pathways using gene lists from R"
   ]
  },
  {
   "cell_type": "markdown",
   "metadata": {},
   "source": [
    "-----------------"
   ]
  },
  {
   "cell_type": "markdown",
   "metadata": {},
   "source": [
    "## Set up environment"
   ]
  },
  {
   "cell_type": "markdown",
   "metadata": {},
   "source": [
    "Gene lists can be built from any set of thresholds or parameters.  Commonly, a gene list consists of the set of significantly differential genes (for example, all genes with p-value < 0.05) but can also consists of only up-regulated or down-regulated genes. Or in our use case, mesenchymal specific genes and immunoreactive specific genes. The intepretation of enrichment results using a gene list very much depends on what threshold or parameters used to define the list."
   ]
  },
  {
   "cell_type": "code",
   "execution_count": 15,
   "metadata": {
    "collapsed": true,
    "run_control": {
     "frozen": false,
     "read_only": false
    }
   },
   "outputs": [],
   "source": [
    "## 1. Load required packages into R"
   ]
  },
  {
   "cell_type": "code",
   "execution_count": 53,
   "metadata": {
    "collapsed": true,
    "run_control": {
     "frozen": false,
     "read_only": false
    }
   },
   "outputs": [],
   "source": [
    "library(\"gProfileR\");"
   ]
  },
  {
   "cell_type": "code",
   "execution_count": 17,
   "metadata": {
    "collapsed": true,
    "run_control": {
     "frozen": false,
     "read_only": false
    }
   },
   "outputs": [],
   "source": [
    "## 2. Set working directory"
   ]
  },
  {
   "cell_type": "code",
   "execution_count": 18,
   "metadata": {
    "collapsed": false,
    "run_control": {
     "frozen": false,
     "read_only": false
    }
   },
   "outputs": [
    {
     "ename": "ERROR",
     "evalue": "Error in setwd(\"./data\"): cannot change working directory\n",
     "output_type": "error",
     "traceback": [
      "Error in setwd(\"./data\"): cannot change working directory\n"
     ]
    }
   ],
   "source": [
    "setwd(\"./data\")"
   ]
  },
  {
   "cell_type": "markdown",
   "metadata": {},
   "source": [
    "## Create list of genes you wish to test for enrichment"
   ]
  },
  {
   "cell_type": "markdown",
   "metadata": {},
   "source": [
    "As an example we can create a list containing all genes that were found to be significant in RNAseq Mesenchymal samples. (Using the data generated in Supplementary Protocol 2 - Mesenchymal genes)"
   ]
  },
  {
   "cell_type": "code",
   "execution_count": 19,
   "metadata": {
    "collapsed": false,
    "run_control": {
     "frozen": false,
     "read_only": false
    }
   },
   "outputs": [],
   "source": [
    "mesenchymal_genes <- read.table( \"mesenvsimmuno_mesenonly_RNAseq_gprofiler.txt\", header = FALSE, \n",
    "                                sep = \"\\t\", quote=\"\\\"\",  stringsAsFactors = FALSE)\n",
    "mesenchymal_genes <- as.vector(t(mesenchymal_genes))"
   ]
  },
  {
   "cell_type": "code",
   "execution_count": 20,
   "metadata": {
    "collapsed": false,
    "run_control": {
     "frozen": false,
     "read_only": false
    }
   },
   "outputs": [
    {
     "data": {
      "text/html": [
       "<ol class=list-inline>\n",
       "\t<li>'BGN'</li>\n",
       "\t<li>'ANTXR1'</li>\n",
       "\t<li>'FZD1'</li>\n",
       "\t<li>'COL16A1'</li>\n",
       "\t<li>'GPC6'</li>\n",
       "\t<li>'TSPAN11'</li>\n",
       "</ol>\n"
      ],
      "text/latex": [
       "\\begin{enumerate*}\n",
       "\\item 'BGN'\n",
       "\\item 'ANTXR1'\n",
       "\\item 'FZD1'\n",
       "\\item 'COL16A1'\n",
       "\\item 'GPC6'\n",
       "\\item 'TSPAN11'\n",
       "\\end{enumerate*}\n"
      ],
      "text/markdown": [
       "1. 'BGN'\n",
       "2. 'ANTXR1'\n",
       "3. 'FZD1'\n",
       "4. 'COL16A1'\n",
       "5. 'GPC6'\n",
       "6. 'TSPAN11'\n",
       "\n",
       "\n"
      ],
      "text/plain": [
       "[1] \"BGN\"     \"ANTXR1\"  \"FZD1\"    \"COL16A1\" \"GPC6\"    \"TSPAN11\""
      ]
     },
     "execution_count": 20,
     "metadata": {},
     "output_type": "execute_result"
    }
   ],
   "source": [
    "head(mesenchymal_genes)"
   ]
  },
  {
   "cell_type": "markdown",
   "metadata": {},
   "source": [
    "## Run g:Profiler"
   ]
  },
  {
   "cell_type": "code",
   "execution_count": 21,
   "metadata": {
    "collapsed": false,
    "run_control": {
     "frozen": false,
     "read_only": false
    }
   },
   "outputs": [],
   "source": [
    "mesenchymal_gprofiler_results <- gprofiler(mesenchymal_genes,significant=T,ordered_query = T,\n",
    "                                           exclude_iea=T,max_set_size = 500,\n",
    "                                           correction_method = \"fdr\",\n",
    "                                           src_filter = c(\"GO:BP\",\"KEGG\",\"REAC\"))"
   ]
  },
  {
   "cell_type": "code",
   "execution_count": 22,
   "metadata": {
    "collapsed": false,
    "run_control": {
     "frozen": false,
     "read_only": false
    }
   },
   "outputs": [
    {
     "data": {
      "text/html": [
       "<table>\n",
       "<thead><tr><th></th><th scope=col>query.number</th><th scope=col>significant</th><th scope=col>p.value</th><th scope=col>term.size</th><th scope=col>query.size</th><th scope=col>overlap.size</th><th scope=col>recall</th><th scope=col>precision</th><th scope=col>term.id</th><th scope=col>domain</th><th scope=col>subgraph.number</th><th scope=col>term.name</th><th scope=col>relative.depth</th><th scope=col>intersection</th></tr></thead>\n",
       "<tbody>\n",
       "\t<tr><th scope=row>1</th><td>1</td><td>TRUE</td><td>0.0356</td><td>102</td><td>757</td><td>10</td><td>0.013</td><td>0.098</td><td>GO:0050890</td><td>BP</td><td>229</td><td>cognition</td><td>1</td><td>FYN,HOXA1,SOBP,DLG4,PLK2,NLGN4X,NTRK2,SHROOM4,CLDN5,PJA2</td></tr>\n",
       "\t<tr><th scope=row>2</th><td>1</td><td>TRUE</td><td>0.0441</td><td>2</td><td>103</td><td>1</td><td>0.01</td><td>0.5</td><td>GO:0086100</td><td>BP</td><td>154</td><td>endothelin receptor signaling pathway</td><td>1</td><td>EDNRA</td></tr>\n",
       "\t<tr><th scope=row>3</th><td>1</td><td>TRUE</td><td>0.018</td><td>6</td><td>339</td><td>2</td><td>0.006</td><td>0.333</td><td>GO:0070141</td><td>BP</td><td>191</td><td>response to UV-A</td><td>1</td><td>CCND1,MME</td></tr>\n",
       "\t<tr><th scope=row>4</th><td>1</td><td>TRUE</td><td>0.00813</td><td>23</td><td>454</td><td>4</td><td>0.009</td><td>0.174</td><td>GO:1901522</td><td>BP</td><td>259</td><td>positive regulation of transcription from RNA polymerase II promoter involved in cellular response to chemical stimulus</td><td>1</td><td>DLX5,SMAD9,RUNX2,BMP2</td></tr>\n",
       "\t<tr><th scope=row>5</th><td>1</td><td>TRUE</td><td>0.0268</td><td>7</td><td>17</td><td>1</td><td>0.059</td><td>0.143</td><td>GO:0032493</td><td>BP</td><td>208</td><td>response to bacterial lipoprotein</td><td>1</td><td>SSC5D</td></tr>\n",
       "\t<tr><th scope=row>6</th><td>1</td><td>TRUE</td><td>0.0382</td><td>10</td><td>17</td><td>1</td><td>0.059</td><td>0.1</td><td>GO:0032490</td><td>BP</td><td>208</td><td>detection of molecule of bacterial origin</td><td>1</td><td>SSC5D</td></tr>\n",
       "</tbody>\n",
       "</table>\n"
      ],
      "text/latex": [
       "\\begin{tabular}{r|llllllllllllll}\n",
       "  & query.number & significant & p.value & term.size & query.size & overlap.size & recall & precision & term.id & domain & subgraph.number & term.name & relative.depth & intersection\\\\\n",
       "\\hline\n",
       "\t1 & 1 & TRUE & 0.0356 & 102 & 757 & 10 & 0.013 & 0.098 & GO:0050890 & BP & 229 & cognition & 1 & FYN,HOXA1,SOBP,DLG4,PLK2,NLGN4X,NTRK2,SHROOM4,CLDN5,PJA2\\\\\n",
       "\t2 & 1 & TRUE & 0.0441 & 2 & 103 & 1 & 0.01 & 0.5 & GO:0086100 & BP & 154 & endothelin receptor signaling pathway & 1 & EDNRA\\\\\n",
       "\t3 & 1 & TRUE & 0.018 & 6 & 339 & 2 & 0.006 & 0.333 & GO:0070141 & BP & 191 & response to UV-A & 1 & CCND1,MME\\\\\n",
       "\t4 & 1 & TRUE & 0.00813 & 23 & 454 & 4 & 0.009 & 0.174 & GO:1901522 & BP & 259 & positive regulation of transcription from RNA polymerase II promoter involved in cellular response to chemical stimulus & 1 & DLX5,SMAD9,RUNX2,BMP2\\\\\n",
       "\t5 & 1 & TRUE & 0.0268 & 7 & 17 & 1 & 0.059 & 0.143 & GO:0032493 & BP & 208 & response to bacterial lipoprotein & 1 & SSC5D\\\\\n",
       "\t6 & 1 & TRUE & 0.0382 & 10 & 17 & 1 & 0.059 & 0.1 & GO:0032490 & BP & 208 & detection of molecule of bacterial origin & 1 & SSC5D\\\\\n",
       "\\end{tabular}\n"
      ],
      "text/plain": [
       "  query.number significant p.value term.size query.size overlap.size recall\n",
       "1            1        TRUE 0.03560       102        757           10  0.013\n",
       "2            1        TRUE 0.04410         2        103            1  0.010\n",
       "3            1        TRUE 0.01800         6        339            2  0.006\n",
       "4            1        TRUE 0.00813        23        454            4  0.009\n",
       "5            1        TRUE 0.02680         7         17            1  0.059\n",
       "6            1        TRUE 0.03820        10         17            1  0.059\n",
       "  precision    term.id domain subgraph.number\n",
       "1     0.098 GO:0050890     BP             229\n",
       "2     0.500 GO:0086100     BP             154\n",
       "3     0.333 GO:0070141     BP             191\n",
       "4     0.174 GO:1901522     BP             259\n",
       "5     0.143 GO:0032493     BP             208\n",
       "6     0.100 GO:0032490     BP             208\n",
       "                                                                                                                term.name\n",
       "1                                                                                                               cognition\n",
       "2                                                                                   endothelin receptor signaling pathway\n",
       "3                                                                                                        response to UV-A\n",
       "4 positive regulation of transcription from RNA polymerase II promoter involved in cellular response to chemical stimulus\n",
       "5                                                                                       response to bacterial lipoprotein\n",
       "6                                                                               detection of molecule of bacterial origin\n",
       "  relative.depth                                             intersection\n",
       "1              1 FYN,HOXA1,SOBP,DLG4,PLK2,NLGN4X,NTRK2,SHROOM4,CLDN5,PJA2\n",
       "2              1                                                    EDNRA\n",
       "3              1                                                CCND1,MME\n",
       "4              1                                    DLX5,SMAD9,RUNX2,BMP2\n",
       "5              1                                                    SSC5D\n",
       "6              1                                                    SSC5D"
      ]
     },
     "execution_count": 22,
     "metadata": {},
     "output_type": "execute_result"
    }
   ],
   "source": [
    "head(mesenchymal_gprofiler_results)"
   ]
  },
  {
   "cell_type": "markdown",
   "metadata": {},
   "source": [
    "## Filter results"
   ]
  },
  {
   "cell_type": "markdown",
   "metadata": {},
   "source": [
    "Some of the web interface parameters are not tuneable from the R package (for example, minimum term size or minimum overlap).  Filter the returned results to apply the same thresholds as applied using the web interface."
   ]
  },
  {
   "cell_type": "markdown",
   "metadata": {},
   "source": [
    "Exclude all results from terms with size < 3 and overlap < 2"
   ]
  },
  {
   "cell_type": "code",
   "execution_count": 23,
   "metadata": {
    "collapsed": false,
    "run_control": {
     "frozen": false,
     "read_only": false
    }
   },
   "outputs": [],
   "source": [
    "mesenchymal_gprofiler_results <- mesenchymal_gprofiler_results[which(mesenchymal_gprofiler_results[,'term.size'] >= 3\n",
    "                                        & mesenchymal_gprofiler_results[,'overlap.size'] >= 2 ),]\n"
   ]
  },
  {
   "cell_type": "markdown",
   "metadata": {},
   "source": [
    "## Create Enrichment Map generic results file"
   ]
  },
  {
   "cell_type": "markdown",
   "metadata": {},
   "source": [
    "The enrichment Map generic results file is the file that can be used as input to create an Enrichment map.  Minimally it contains term id, term name, pvalue, qvalue, phenotype and list of genes. "
   ]
  },
  {
   "cell_type": "code",
   "execution_count": 24,
   "metadata": {
    "collapsed": false,
    "run_control": {
     "frozen": false,
     "read_only": false
    }
   },
   "outputs": [],
   "source": [
    "# gProfileR returns corrected p-values only.  Set p-value to corrected p-value\n",
    "mesenchymal_em_results <- cbind(mesenchymal_gprofiler_results[,c(\"term.id\",\"term.name\",\"p.value\",\"p.value\")], 1,\n",
    "                                mesenchymal_gprofiler_results[,\"intersection\"])\n",
    "colnames(mesenchymal_em_results) <- c(\"Name\",\"Description\", \"pvalue\",\"qvalue\",\"phenotype\",\"genes\")\n",
    "\n",
    "write.table(mesenchymal_em_results,\"gprofiler_results_mesenonly_ordered_computedinR.txt\",col.name=TRUE,sep=\"\\t\",row.names=FALSE,quote=FALSE)\n"
   ]
  },
  {
   "cell_type": "markdown",
   "metadata": {
    "collapsed": true
   },
   "source": [
    "## Create Enrichment map directly from R"
   ]
  },
  {
   "cell_type": "markdown",
   "metadata": {},
   "source": [
    "Create EM through Cyrest interface - make sure you open cytoscape with a -R 1234 to enable rest functionality.\n",
    "\n",
    "**Launch Cytoscape**\n",
    "\n",
    "On **Windows** open a command window and run:\n",
    "cd \"C:\\Program files\\Cytoscape_v3.3.0\\\" \\ \n",
    "    cytoscape.bat -R 1234\n",
    "    \n",
    "On **MAC** open a terminal window and run:\n",
    "/Applications/Cytoscape_v3.3.0/cytoscape.sh -R 1234\n"
   ]
  },
  {
   "cell_type": "markdown",
   "metadata": {},
   "source": [
    "><span style=\"color:red\">**the code below can not be run from within the docker container of this tutorial unless you have mapped the localhost to the ip address of the computer you are running the docker image from.  Add the following to the docker run command (substitute your own ip address though)  --add-host=\"localhost:192.168.0.10\" .  **</span>\n",
    "* If you have cytoscape and R running on your computer you can run it directly from R. The R code is basically constructing a url that it then calls in order to create the network in cytoscape.  \n",
    "* It requires two aditional libaries in R, \n",
    "  * install.packages('RJSONIO','httr')"
   ]
  },
  {
   "cell_type": "code",
   "execution_count": 25,
   "metadata": {
    "collapsed": false,
    "run_control": {
     "frozen": false,
     "read_only": false
    }
   },
   "outputs": [
    {
     "name": "stdout",
     "output_type": "stream",
     "text": [
      "[1] \"http://localhost:1234/v1\"\n",
      "      apiVersion cytoscapeVersion \n",
      "            \"v1\"          \"3.3.0\" \n"
     ]
    }
   ],
   "source": [
    "library(RJSONIO)\n",
    "\n",
    "library(httr)\n",
    "# Basic settings\n",
    "port.number = 1234\n",
    "base.url = paste(\"http://localhost:\", toString(port.number), \"/v1\", sep=\"\")\n",
    "\n",
    "print(base.url)\n",
    "\n",
    "version.url = paste(base.url, \"version\", sep=\"/\")\n",
    "cytoscape.version = GET(version.url)\n",
    "cy.version = fromJSON(rawToChar(cytoscape.version$content))\n",
    "print(cy.version)\n"
   ]
  },
  {
   "cell_type": "markdown",
   "metadata": {},
   "source": [
    "<span style=\"color:blue\">**Specify the path to your data directory. Change variable \"path_to_file\" **</span><br> \n",
    "<span style=\"color:red\">**On windows use / instead of the regular \\ to specify the path.!**</span> "
   ]
  },
  {
   "cell_type": "code",
   "execution_count": 54,
   "metadata": {
    "collapsed": false
   },
   "outputs": [],
   "source": [
    "\n",
    "# to create an Enrichment map we need to specify\n",
    "# analysisType = generic\n",
    "# \n",
    "enrichmentmap.url <- paste(base.url, \"commands\",\"enrichmentmap\",\"build\", sep=\"/\") \n",
    "\n",
    "#path_to_file=\"/Users/risserlin/Dropbox (Bader Lab)/Ruth Isserlin's files/Enrichment_Analyses/Jupyter_Notebooks/notebooks/data\"\n",
    "#on windows change the \\ to / in order for the pathname to be interpretted correctly.\n",
    "path_to_file=\"C:/Users/zaphod/Ruth_dropbox/Dropbox (Bader Lab)/Ruth Isserlin's files/Enrichment_Analyses/Jupyter_Notebooks/notebooks/data/\"\n",
    "\n",
    "enr_file = paste(path_to_file,\"gprofiler_results_mesenonly_ordered_computedinR.txt\",sep=\"\")\n",
    "\n",
    "em_params <- list(analysisType = \"generic\",enrichmentsDataset1 = enr_file,pvalue=\"1.0\",qvalue=\"0.00001\",\n",
    "                  #expressionDataset1 = exp_file, \n",
    "                  similaritycutoff=\"0.25\",coeffecients=\"JACCARD\")\n",
    "\n",
    "response <- GET(url=enrichmentmap.url, query=em_params)"
   ]
  },
  {
   "cell_type": "code",
   "execution_count": 51,
   "metadata": {
    "collapsed": false,
    "run_control": {
     "frozen": false,
     "read_only": false
    }
   },
   "outputs": [
    {
     "data": {
      "text/html": [
       "'http://localhost:1234/v1/commands/enrichmentmap/build?analysisType=generic&enrichmentsDataset1=C%3A%2FUsers%2Fzaphod%2FRuth_dropbox%2FDropbox%20%28Bader%20Lab%29%2FRuth%20Isserlin%27s%20files%2FEnrichment_Analyses%2FJupyter_Notebooks%2Fnotebooks%2Fdata%2Fgprofiler_results_mesenonly_ordered_computedinR.txt&pvalue=1.0&qvalue=0.00001&similaritycutoff=0.25&coeffecients=JACCARD'"
      ],
      "text/latex": [
       "'http://localhost:1234/v1/commands/enrichmentmap/build?analysisType=generic&enrichmentsDataset1=C%3A%2FUsers%2Fzaphod%2FRuth_dropbox%2FDropbox%20%28Bader%20Lab%29%2FRuth%20Isserlin%27s%20files%2FEnrichment_Analyses%2FJupyter_Notebooks%2Fnotebooks%2Fdata%2Fgprofiler_results_mesenonly_ordered_computedinR.txt&pvalue=1.0&qvalue=0.00001&similaritycutoff=0.25&coeffecients=JACCARD'"
      ],
      "text/markdown": [
       "'http://localhost:1234/v1/commands/enrichmentmap/build?analysisType=generic&enrichmentsDataset1=C%3A%2FUsers%2Fzaphod%2FRuth_dropbox%2FDropbox%20%28Bader%20Lab%29%2FRuth%20Isserlin%27s%20files%2FEnrichment_Analyses%2FJupyter_Notebooks%2Fnotebooks%2Fdata%2Fgprofiler_results_mesenonly_ordered_computedinR.txt&pvalue=1.0&qvalue=0.00001&similaritycutoff=0.25&coeffecients=JACCARD'"
      ],
      "text/plain": [
       "[1] \"http://localhost:1234/v1/commands/enrichmentmap/build?analysisType=generic&enrichmentsDataset1=C%3A%2FUsers%2Fzaphod%2FRuth_dropbox%2FDropbox%20%28Bader%20Lab%29%2FRuth%20Isserlin%27s%20files%2FEnrichment_Analyses%2FJupyter_Notebooks%2Fnotebooks%2Fdata%2Fgprofiler_results_mesenonly_ordered_computedinR.txt&pvalue=1.0&qvalue=0.00001&similaritycutoff=0.25&coeffecients=JACCARD\""
      ]
     },
     "execution_count": 51,
     "metadata": {},
     "output_type": "execute_result"
    }
   ],
   "source": [
    "#get the url used to generate network.  \n",
    "response$url\n"
   ]
  },
  {
   "cell_type": "code",
   "execution_count": 52,
   "metadata": {
    "collapsed": false
   },
   "outputs": [
    {
     "data": {
      "text/html": [
       "'<p style=\"color:black;margin-left:10px;margin-top:0px;margin-bottom:5px;\">Finished</p>\n",
       "'"
      ],
      "text/latex": [
       "'<p style=\"color:black;margin-left:10px;margin-top:0px;margin-bottom:5px;\">Finished</p>\n",
       "'"
      ],
      "text/markdown": [
       "'<p style=\"color:black;margin-left:10px;margin-top:0px;margin-bottom:5px;\">Finished</p>\n",
       "'"
      ],
      "text/plain": [
       "[1] \"<p style=\\\"color:black;margin-left:10px;margin-top:0px;margin-bottom:5px;\\\">Finished</p>\\n\""
      ]
     },
     "execution_count": 52,
     "metadata": {},
     "output_type": "execute_result"
    }
   ],
   "source": [
    "#get the content returned.  If the call was successful the message should be \"finished\"\n",
    " content(response, \"text\", encoding = \"ISO-8859-1\")"
   ]
  },
  {
   "cell_type": "markdown",
   "metadata": {},
   "source": [
    "**Go to your open instance of cytoscape to see you results. **<BR>\n",
    "Network should look similar to the below figure"
   ]
  },
  {
   "cell_type": "markdown",
   "metadata": {},
   "source": [
    "<img src=\"figures/gprofiler_example_network_forjupyter.png\">"
   ]
  },
  {
   "cell_type": "code",
   "execution_count": null,
   "metadata": {
    "collapsed": true
   },
   "outputs": [],
   "source": []
  }
 ],
 "metadata": {
  "hide_input": false,
  "kernelspec": {
   "display_name": "R",
   "language": "R",
   "name": "ir"
  },
  "language_info": {
   "codemirror_mode": "r",
   "file_extension": ".r",
   "mimetype": "text/x-r-source",
   "name": "R",
   "pygments_lexer": "r",
   "version": "3.2.2"
  },
  "toc": {
   "toc_cell": false,
   "toc_number_sections": true,
   "toc_threshold": 6,
   "toc_window_display": true
  },
  "toc_position": {
   "height": "216px",
   "left": "945.188px",
   "right": "20px",
   "top": "281.969px",
   "width": "327px"
  }
 },
 "nbformat": 4,
 "nbformat_minor": 0
}
