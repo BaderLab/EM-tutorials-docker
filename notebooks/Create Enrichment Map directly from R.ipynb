{
 "cells": [
  {
   "cell_type": "markdown",
   "metadata": {},
   "source": [
    "# Create Enrichment Map directly from R"
   ]
  },
  {
   "cell_type": "markdown",
   "metadata": {},
   "source": [
    "-------------------"
   ]
  },
  {
   "cell_type": "markdown",
   "metadata": {},
   "source": [
    "**Table of Contents:**\n",
    "  1. <a href=#launch>Launch Cytoscape</a>\n",
    "  1. <a href=#test>Test connection from R to cytoscape/a>\n",
    "  1. <a href=#create>Create Enrichment Map</a>\n",
    "  1. <a href=#examine>Examine results</a>"
   ]
  },
  {
   "cell_type": "markdown",
   "metadata": {},
   "source": [
    "-------------------"
   ]
  },
  {
   "cell_type": "markdown",
   "metadata": {},
   "source": [
    "<a id='launch'></a>"
   ]
  },
  {
   "cell_type": "markdown",
   "metadata": {},
   "source": [
    "## 1. Launch Cytoscape"
   ]
  },
  {
   "cell_type": "markdown",
   "metadata": {},
   "source": [
    "Create EM through Cyrest interface - make sure you open cytoscape with a -R 1234 (to enable rest functionality) and allow R to talk directly to cytoscape.\n",
    "\n",
    "**Launch Cytoscape**\n",
    "\n",
    "On **Windows** open a command window and run:\n",
    "cd \"C:\\Program files\\Cytoscape_v3.3.0\\\" \\ \n",
    "    cytoscape.bat -R 1234\n",
    "    \n",
    "On **MAC** open a terminal window and run:\n",
    "/Applications/Cytoscape_v3.3.0/cytoscape.sh -R 1234"
   ]
  },
  {
   "cell_type": "markdown",
   "metadata": {},
   "source": [
    "><span style=\"color:red\">**the code below can not be run from within the docker container of this tutorial unless you have mapped the localhost to the ip address of the computer you are running the docker image from.  Add the following to the docker run command (substitute your own ip address though)  --add-host=\"localhost:192.168.0.10\" .  **</span>\n",
    "* If you have cytoscape and R running on your computer you can run it directly from R. The R code is basically constructing a url that it then calls in order to create the network in cytoscape.  "
   ]
  },
  {
   "cell_type": "markdown",
   "metadata": {},
   "source": [
    "<a id='test'></a>"
   ]
  },
  {
   "cell_type": "markdown",
   "metadata": {},
   "source": [
    "## 2. Set up connection from R to cytoscape "
   ]
  },
  {
   "cell_type": "code",
   "execution_count": 15,
   "metadata": {
    "collapsed": false
   },
   "outputs": [
    {
     "name": "stdout",
     "output_type": "stream",
     "text": [
      "[1] \"http://localhost:1234/v1\"\n",
      "      apiVersion cytoscapeVersion \n",
      "            \"v1\"          \"3.3.0\" \n"
     ]
    }
   ],
   "source": [
    "library(RJSONIO)\n",
    "\n",
    "library(httr)\n",
    "# Basic settings\n",
    "port.number = 1234\n",
    "base.url = paste(\"http://localhost:\", toString(port.number), \"/v1\", sep=\"\")\n",
    "\n",
    "print(base.url)\n",
    "\n",
    "version.url = paste(base.url, \"version\", sep=\"/\")\n",
    "cytoscape.version = GET(version.url)\n",
    "cy.version = fromJSON(rawToChar(cytoscape.version$content))\n",
    "print(cy.version)"
   ]
  },
  {
   "cell_type": "markdown",
   "metadata": {},
   "source": [
    "<a id='create'></a>"
   ]
  },
  {
   "cell_type": "markdown",
   "metadata": {},
   "source": [
    "## 3. Create Enrichment Map"
   ]
  },
  {
   "cell_type": "markdown",
   "metadata": {},
   "source": [
    "<span style=\"color:blue\">**Specify the path to your data directory. Change variable \"path_to_file\" **</span><br> \n",
    "<span style=\"color:red\">**On windows use / instead of the regular \\ to specify the path.!**</span> "
   ]
  },
  {
   "cell_type": "code",
   "execution_count": 16,
   "metadata": {
    "collapsed": true
   },
   "outputs": [],
   "source": [
    "\n",
    "# to create an Enrichment map we need to specify\n",
    "# analysisType = generic\n",
    "# \n",
    "enrichmentmap.url <- paste(base.url, \"commands\",\"enrichmentmap\",\"build\", sep=\"/\") \n",
    "\n",
    "path_to_file=\"/Users/risserlin/Dropbox (Bader Lab)/Ruth Isserlin's files/Enrichment_Analyses/Jupyter_Notebooks/notebooks/data/\"\n",
    "\n",
    "#on windows change the \\ to / in order for the pathname to be interpretted correctly.\n",
    "#path_to_file=\"C:/Users/zaphod/Ruth_dropbox/Dropbox (Bader Lab)/Ruth Isserlin's files/Enrichment_Analyses/Jupyter_Notebooks/notebooks/data/\"\n",
    "\n",
    "enr_file = paste(path_to_file,\"gprofiler_results_mesenonly_ordered_computedinR.txt\",sep=\"\")\n",
    "\n",
    "em_params <- list(analysisType = \"generic\",enrichmentsDataset1 = enr_file,pvalue=\"1.0\",qvalue=\"0.00001\",\n",
    "                  #expressionDataset1 = exp_file, \n",
    "                  similaritycutoff=\"0.25\",coeffecients=\"JACCARD\")\n",
    "\n",
    "response <- GET(url=enrichmentmap.url, query=em_params)"
   ]
  },
  {
   "cell_type": "code",
   "execution_count": 17,
   "metadata": {
    "collapsed": false
   },
   "outputs": [
    {
     "data": {
      "text/html": [
       "'http://localhost:1234/v1/commands/enrichmentmap/build?analysisType=generic&enrichmentsDataset1=%2FUsers%2Frisserlin%2FDropbox%20%28Bader%20Lab%29%2FRuth%20Isserlin%27s%20files%2FEnrichment_Analyses%2FJupyter_Notebooks%2Fnotebooks%2Fdata%2Fgprofiler_results_mesenonly_ordered_computedinR.txt&pvalue=1.0&qvalue=0.00001&similaritycutoff=0.25&coeffecients=JACCARD'"
      ],
      "text/latex": [
       "'http://localhost:1234/v1/commands/enrichmentmap/build?analysisType=generic&enrichmentsDataset1=%2FUsers%2Frisserlin%2FDropbox%20%28Bader%20Lab%29%2FRuth%20Isserlin%27s%20files%2FEnrichment_Analyses%2FJupyter_Notebooks%2Fnotebooks%2Fdata%2Fgprofiler_results_mesenonly_ordered_computedinR.txt&pvalue=1.0&qvalue=0.00001&similaritycutoff=0.25&coeffecients=JACCARD'"
      ],
      "text/markdown": [
       "'http://localhost:1234/v1/commands/enrichmentmap/build?analysisType=generic&enrichmentsDataset1=%2FUsers%2Frisserlin%2FDropbox%20%28Bader%20Lab%29%2FRuth%20Isserlin%27s%20files%2FEnrichment_Analyses%2FJupyter_Notebooks%2Fnotebooks%2Fdata%2Fgprofiler_results_mesenonly_ordered_computedinR.txt&pvalue=1.0&qvalue=0.00001&similaritycutoff=0.25&coeffecients=JACCARD'"
      ],
      "text/plain": [
       "[1] \"http://localhost:1234/v1/commands/enrichmentmap/build?analysisType=generic&enrichmentsDataset1=%2FUsers%2Frisserlin%2FDropbox%20%28Bader%20Lab%29%2FRuth%20Isserlin%27s%20files%2FEnrichment_Analyses%2FJupyter_Notebooks%2Fnotebooks%2Fdata%2Fgprofiler_results_mesenonly_ordered_computedinR.txt&pvalue=1.0&qvalue=0.00001&similaritycutoff=0.25&coeffecients=JACCARD\""
      ]
     },
     "execution_count": 17,
     "metadata": {},
     "output_type": "execute_result"
    }
   ],
   "source": [
    "#get the url used to generate network.  \n",
    "response$url"
   ]
  },
  {
   "cell_type": "markdown",
   "metadata": {},
   "source": [
    "**Cut and Copy the above URL into a web browser if you haven't bound your machine IP to the docker image (as described above)**"
   ]
  },
  {
   "cell_type": "code",
   "execution_count": 18,
   "metadata": {
    "collapsed": false
   },
   "outputs": [
    {
     "data": {
      "text/html": [
       "'Finished\n",
       "'"
      ],
      "text/latex": [
       "'Finished\n",
       "'"
      ],
      "text/markdown": [
       "'Finished\n",
       "'"
      ],
      "text/plain": [
       "[1] \"Finished\\n\""
      ]
     },
     "execution_count": 18,
     "metadata": {},
     "output_type": "execute_result"
    }
   ],
   "source": [
    "#get the content returned.  If the call was successful the message should be \"finished\"\n",
    " content(response, \"text\", encoding = \"ISO-8859-1\")"
   ]
  },
  {
   "cell_type": "markdown",
   "metadata": {},
   "source": [
    "If executed successfully above message should be \"Finished\""
   ]
  },
  {
   "cell_type": "markdown",
   "metadata": {},
   "source": [
    "<a id='examine'></a>"
   ]
  },
  {
   "cell_type": "markdown",
   "metadata": {},
   "source": [
    "## 4. Examine results"
   ]
  },
  {
   "cell_type": "markdown",
   "metadata": {},
   "source": [
    "**Go to your open instance of cytoscape to see you results. **<BR>\n",
    "Network should look similar to the below figure"
   ]
  },
  {
   "cell_type": "markdown",
   "metadata": {},
   "source": [
    "<img src=\"figures/gprofiler_example_network_forjupyter.png\">"
   ]
  },
  {
   "cell_type": "code",
   "execution_count": null,
   "metadata": {
    "collapsed": true
   },
   "outputs": [],
   "source": []
  }
 ],
 "metadata": {
  "kernelspec": {
   "display_name": "R",
   "language": "R",
   "name": "ir"
  },
  "language_info": {
   "codemirror_mode": "r",
   "file_extension": ".r",
   "mimetype": "text/x-r-source",
   "name": "R",
   "pygments_lexer": "r",
   "version": "3.2.2"
  }
 },
 "nbformat": 4,
 "nbformat_minor": 0
}
