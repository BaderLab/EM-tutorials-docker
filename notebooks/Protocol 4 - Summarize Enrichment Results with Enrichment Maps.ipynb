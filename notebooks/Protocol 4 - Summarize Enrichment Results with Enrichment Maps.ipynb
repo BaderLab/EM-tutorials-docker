{
 "cells": [
  {
   "cell_type": "markdown",
   "metadata": {},
   "source": [
    "# Protocol 4 - Summarize Enrichment Results with Enrichment Maps"
   ]
  },
  {
   "cell_type": "markdown",
   "metadata": {},
   "source": [
    "-------------------"
   ]
  },
  {
   "cell_type": "markdown",
   "metadata": {},
   "source": [
    "**Table of Contents:**\n",
    "  1. <a href=#launch>Launch Cytoscape</a>\n",
    "  1. <a href=#option1>Option 1: Load enrichment results from g:Profiler/a>\n",
    "  1. <a href=#option2>Option 2: Load enrichment results from GSEA</a>\n",
    "  1. <a href=#examine>Examine results</a>"
   ]
  },
  {
   "cell_type": "markdown",
   "metadata": {},
   "source": [
    "------------------"
   ]
  },
  {
   "cell_type": "markdown",
   "metadata": {},
   "source": [
    "<a id='launch'></a>"
   ]
  },
  {
   "cell_type": "markdown",
   "metadata": {},
   "source": [
    "## 1. Launch Cytoscape and open Enrichment Map App"
   ]
  },
  {
   "cell_type": "markdown",
   "metadata": {},
   "source": [
    "* Double click on Cytoscape icon\n",
    "\n",
    "> **OR**\n",
    "\n",
    ">On **Windows** open a command window and run:\n",
    "cd \"C:\\Program files\\Cytoscape_v3.3.0\\\" \\ \n",
    "    cytoscape.bat\n",
    "\n",
    ">On **MAC** open a terminal window and run:\n",
    "/Applications/Cytoscape_v3.3.0/cytoscape.sh "
   ]
  },
  {
   "cell_type": "markdown",
   "metadata": {},
   "source": [
    "* Open Enrichment Map App\n",
    "  * In the top menu bar:\n",
    "    * Click on Apps -> Enrichment Map -> CreateEnrichment Map"
   ]
  },
  {
   "cell_type": "markdown",
   "metadata": {},
   "source": [
    "<a id='option1'></a>"
   ]
  },
  {
   "cell_type": "markdown",
   "metadata": {},
   "source": [
    "## 2. Option 1: Load enrichment results from g:Profiler"
   ]
  },
  {
   "cell_type": "markdown",
   "metadata": {},
   "source": [
    "Load the g:Profiler results (create in [Protocol 1](Protocol 1 - gProfiler from web interface.ipynb)) into Cytoscape using the Enrichment Map interface"
   ]
  },
  {
   "cell_type": "markdown",
   "metadata": {},
   "source": [
    "Locate the Control Panel on the left side of the window, select the \"Enrichment Map input panel\" to load enrichment results.\n",
    "Specify the following parameters:\n",
    " * in **Analysis Type** select \"generic (ex:gProfiler)\"\n",
    " * in **User Input** load results files by clicking on the respective **(...)** button and selecting the file in the dialog\n",
    "   * **GMT** - not required\n",
    "   "
   ]
  },
  {
   "cell_type": "markdown",
   "metadata": {},
   "source": [
    "<a id='option2'></a>"
   ]
  }
 ],
 "metadata": {
  "kernelspec": {
   "display_name": "R",
   "language": "R",
   "name": "ir"
  },
  "language_info": {
   "codemirror_mode": "r",
   "file_extension": ".r",
   "mimetype": "text/x-r-source",
   "name": "R",
   "pygments_lexer": "r",
   "version": "3.2.2"
  }
 },
 "nbformat": 4,
 "nbformat_minor": 0
}
