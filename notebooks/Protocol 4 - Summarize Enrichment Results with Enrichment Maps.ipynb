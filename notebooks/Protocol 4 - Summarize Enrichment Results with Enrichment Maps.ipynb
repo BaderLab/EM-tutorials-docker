{
 "cells": [
  {
   "cell_type": "markdown",
   "metadata": {},
   "source": [
    "# Protocol 4 - Summarize Enrichment Results with Enrichment Maps"
   ]
  },
  {
   "cell_type": "markdown",
   "metadata": {},
   "source": [
    "-------------------"
   ]
  },
  {
   "cell_type": "markdown",
   "metadata": {},
   "source": [
    "**Table of Contents:**\n",
    "  1. <a href=#launch>Launch Cytoscape</a>\n",
    "  1. <a href=#option1>Option 1: Load enrichment results from g:Profiler/a>\n",
    "  1. <a href=#option2>Option 2: Load enrichment results from GSEA</a>"
   ]
  },
  {
   "cell_type": "markdown",
   "metadata": {},
   "source": [
    "------------------"
   ]
  },
  {
   "cell_type": "markdown",
   "metadata": {},
   "source": [
    "<a id='launch'></a>"
   ]
  },
  {
   "cell_type": "markdown",
   "metadata": {},
   "source": [
    "## 1. Launch Cytoscape and open Enrichment Map App"
   ]
  },
  {
   "cell_type": "markdown",
   "metadata": {},
   "source": [
    "* Double click on Cytoscape icon\n",
    "\n",
    "> **OR**\n",
    "\n",
    ">On **Windows** open a command window and run:\n",
    "cd \"C:\\Program files\\Cytoscape_v3.3.0\\\" \\ \n",
    "    cytoscape.bat\n",
    "\n",
    ">On **MAC** open a terminal window and run:\n",
    "/Applications/Cytoscape_v3.3.0/cytoscape.sh "
   ]
  },
  {
   "cell_type": "markdown",
   "metadata": {},
   "source": [
    "* Open Enrichment Map App\n",
    "  * In the top menu bar:\n",
    "    * Click on Apps -> Enrichment Map -> CreateEnrichment Map"
   ]
  },
  {
   "cell_type": "markdown",
   "metadata": {},
   "source": [
    "<a id='option1'></a>"
   ]
  },
  {
   "cell_type": "markdown",
   "metadata": {},
   "source": [
    "## 2. Option 1: Load enrichment results from g:Profiler"
   ]
  },
  {
   "cell_type": "markdown",
   "metadata": {},
   "source": [
    "Load the g:Profiler results (create in [Protocol 1](Protocol 1 - gProfiler from web interface.ipynb)) into Cytoscape using the Enrichment Map interface"
   ]
  },
  {
   "cell_type": "markdown",
   "metadata": {},
   "source": [
    "<img  src=\"figures/gprofiler_interface.png\" align=\"right\">\n",
    "Locate the Control Panel on the left side of the window, select the \"Enrichment Map input panel\" to load enrichment results.\n",
    "Specify the following parameters:\n",
    " * in **Analysis Type** select \"generic (ex:gProfiler)\"\n",
    " * in **User Input** load results files by clicking on the respective **(...)** button and selecting the file in the dialog\n",
    "   * **GMT** - not required.  This field should remain empty.\n",
    "    ><span style=\"color:purple\">** TIP: For g:Profiler results there is an additional column containing the list of genes associated with each geneset.  If you are creating an Enrichment Map with generic results from some other program and it lacks a column listing the genes belonging to each set then you need to specify a gmt file outlining the genes belonging to each set.** </span>\n",
    "   * **Expression** - MesenchymalvsImmunoreactive_RNSseq_expression.txt\n",
    "    ><span style=\"color:purple\">** TIP: This field is optional but recommended **</span>\n",
    "   * **Enrichments** - gprofiler_results_mesenonly_ordered.txt\n",
    "   * **Classes** - MesenchymalvsImmunoreactive_RNAseq_classes.cls\n",
    "   ><span style=\"color:purple\">** TIP: This field is optional but recommended **</span>\n",
    "   * **Phenotype** - In the text boxes replace \"UP\" with \"Mesenchymal\" and \"DOWN\" with Immunoreactive.  Mesenchymal will be associated with red nodes because it corresponds to the positive phenotype in the gprofiler_results_mesenonly_ordered.\n",
    "   ><span style=\"color:purple\">** TIP: In order for the phenotypes to be annotated in the EM heatmap the specified phenotype labels need to match those specified in the cls file. **</span>\n",
    "   * Tune parameters\n",
    "     * In the \"Patameters\" box:\n",
    "       * Set Q-value cut off to 0.0001 \n",
    "        ><span style=\"color:purple\">** TIP: to set threshold to very small numbers select Scientific Notation and set Q-value cut off to 1E-04 **</span>\n",
    "       * Select “Jaccard” similarity cutoff and set the value to 0.25 \n",
    "       <img src=\"figures/Figure5_GSEA_similarityLogo.png\">\n",
    "    * Click on “Build” button at the bottom of the Enrichment Map Input panel \n",
    "\n",
    "### Unformatted results\n",
    "<img src=\"figures/gprofiler_EM_unformatted.png\">\n",
    " \n",
    "   "
   ]
  },
  {
   "cell_type": "markdown",
   "metadata": {},
   "source": [
    "<a id='option2'></a>"
   ]
  },
  {
   "cell_type": "markdown",
   "metadata": {},
   "source": [
    "## 3. Option 2: Load enrichment results from GSEA"
   ]
  },
  {
   "cell_type": "markdown",
   "metadata": {},
   "source": [
    "Load the GSEA results (create in [Protocol 2](Protocol 2 - Find enriched pathways using GSEA from a rank file .ipynb)) into Cytoscape using the Enrichment Map interface"
   ]
  },
  {
   "cell_type": "markdown",
   "metadata": {},
   "source": [
    "<img  src=\"figures/gsea_EM_interface.png\" align=\"right\">\n",
    "Locate the Control Panel on the left side of the window, select the \"Enrichment Map input panel\" to load enrichment results.\n",
    "Specify the following parameters:\n",
    " * in **Analysis Type** select \"GSEA\"\n",
    " * in **User Input** load results files by clicking on the respective **(...)** button and selecting the file in the dialog\n",
    "   * **GMT** - Human_GOBP_AllPathways_no_GO_iea_December_24_2015_symbol.gmt\n",
    "   * **Expression** - MesenchymalvsImmunoreactive_RNSseq_expression.txt\n",
    "    ><span style=\"color:purple\">** TIP: This field is optional but recommended **</span>\n",
    "   * **Enrichments 1**- gsea_home/output/[data]/ Mesen_vs_Immuno_edgeR.GseaPreranked.1453221178549 / gsea_report_for_na_pos_1453221178549.xls (example file name.  Number is automatically generated and will be different for results run by user.\n",
    "   * **Enrichments 2** – gsea_home/output/[data]/ Mesen_vs_Immuno_edgeR.GseaPreranked.1453221178549 /gsea_report_for_na_neg_1453221178549.xls (example file name.  Number is automatically generated and will be different for results run by user.\n",
    "   * **Classes** - MesenchymalvsImmunoreactive_RNAseq_classes.cls\n",
    "   ><span style=\"color:purple\">** TIP: This field is optional but recommended **</span>\n",
    "   * **Phenotype** - In the text boxes replace \"UP\" with \"Mesenchymal\" and \"DOWN\" with Immunoreactive.  Mesenchymal will be associated with red nodes because it corresponds to the positive phenotype and Immunoreactive will be associated with the blue nodes because it corresponds to the negative phenotype.\n",
    "   ><span style=\"color:purple\">** TIP: In order for the phenotypes to be annotated in the EM heatmap the specified phenotype labels need to match those specified in the cls file. **</span>\n",
    "   * Tune parameters\n",
    "     * In the \"Patameters\" box:\n",
    "       * Set Q-value cut off to 0.0001 \n",
    "        ><span style=\"color:purple\">** TIP: to set threshold to very small numbers select Scientific Notation and set Q-value cut off to 1E-04 **</span>\n",
    "       * Select “Jaccard” similarity cutoff and set the value to 0.375 \n",
    "       <img src=\"figures/Figure5_GSEA_similarityLogo.png\">\n",
    "    * Click on “Build” button at the bottom of the Enrichment Map Input panel \n",
    "    \n",
    "        ><span style=\"color:purple\">** TIP: Instead of loading each of the GSEA results files individually you can load in the GSEA rpt file instead.  The rpt file is located in the GSEA results directory.  Sort the results directory by date modified and the rpt file should be the second most recently updated file in the directory.  The rpt file will automatically populate the GMT, expression, enrichment results and ranks file.  If any of the files can not be found (because they have been moved or been deleted) the filename will be accentuated with red font.  Given that the analysis was performed on a rank file as opposed to an expression file if you would like to see the expression values in the expression viewer as opposed to the ranks you will also need to change the expression file populated by the rpt from MesenchymalvsImmunoreactive_edger_ranks.rnk to MesenchymalvsImmunoreactive_RNAseq_expression.txt.**</span>\n",
    "    \n",
    " ### Unformatted results\n",
    "<img src=\"figures/GSEA_EM_unformatted.png\">\n",
    " "
   ]
  },
  {
   "cell_type": "code",
   "execution_count": null,
   "metadata": {
    "collapsed": true
   },
   "outputs": [],
   "source": []
  }
 ],
 "metadata": {
  "kernelspec": {
   "display_name": "R",
   "language": "R",
   "name": "ir"
  },
  "language_info": {
   "codemirror_mode": "r",
   "file_extension": ".r",
   "mimetype": "text/x-r-source",
   "name": "R",
   "pygments_lexer": "r",
   "version": "3.2.2"
  }
 },
 "nbformat": 4,
 "nbformat_minor": 0
}
